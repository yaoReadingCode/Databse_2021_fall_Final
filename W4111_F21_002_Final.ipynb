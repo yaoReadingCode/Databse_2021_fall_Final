{
 "cells": [
  {
   "cell_type": "markdown",
   "metadata": {},
   "source": [
    "<p style=\"font-size:30px; text-align:center; line-height:120%\">\n",
    "<br>\n",
    "COMS W 4111-002<br>\n",
    "W4111 - Introduction to Databases, Section 002, Fall 2021<br>\n",
    "Take Home Final<br>\n",
    "</p>"
   ]
  },
  {
   "cell_type": "markdown",
   "metadata": {},
   "source": [
    "# Exam Instructions\n",
    "\n",
    "## Overview\n",
    "\n",
    "The Final Exam is worth 30 points out of the semester's total points. There are 10 questions of varying difficulty worth varying points. The amount of points is not necessarily indicative of difficulty/length of the question, but you can use it as a rough guide. The grade for the final is in the range 0-100. We map the score to final point by multiplying by $30 \\over 100$.\n",
    "\n",
    "The Final Exam is open note, open book, open internet. You __may not collaborate__ with other students. Posts on EdStem must be made private for you and the instructors only. Any common questions or clarifications will be made by the instructors on the Final Exam pinned thread. Students __are responsible__ for monitoring the thread for corrections and clarifications.\n",
    "\n",
    "You must cite any online sources in the comments Markdown cell for each questions."
   ]
  },
  {
   "cell_type": "markdown",
   "metadata": {},
   "source": [
    "## Overview of Questions\n",
    "\n",
    "1. Written $-$ Core Databases Concepts (10 pts)\n",
    "2. Relational Algebra (10 pts)\n",
    "3. SQL Design and Query (10 pts)\n",
    "4. Neo4j Design and Query Queries (10 pts)\n",
    "5. MongoDB Design and Query (10 pts)\n",
    "6. Implementation Scenario 1: Modeling and Implementing [RACI] in a Database (15 pts)\n",
    "7. ~~Implementation Scenario 2: Data Model Comparisons (20 pts)~~\n",
    "8. Impementation Scenario 3: Data Model Transformation (15 pts)\n",
    "\n",
    "\n",
    "__Note:__ I decided to drop the data model comparison to make the exam easier. So, everyone get's a free 20 points. Also, remember that __I never curve down.__"
   ]
  },
  {
   "cell_type": "markdown",
   "metadata": {},
   "source": [
    "## Submission Information\n",
    "\n",
    "This exam is __due Sunday, December 19 at 11:59pm ET__ to Gradescope. __You may not use Late Days.__ \n",
    "\n",
    "You submit a zip file containing the main Jupyter Notebook (this file), a PDF of this notebook, and several files in the folder. Each questions provides detailed instructions of how to complete the question.\n",
    "\n",
    "Your PDFs must be high enough resolution that the text is legible. It must be printed onto standard 8.5x11in pages. Any images that you embed MUST be visible in the PDF. Do not use HTML to embed your images or they will not be visible when you export to PDF. \n",
    "\n",
    "__Failure to meet these formatting specifications will result in a 0__. \n",
    "\n",
    "\n",
    "\n",
    "As always, respect for the individual is paramount. We will accommodate special circumstances, but we must be notified and discuss in advance."
   ]
  },
  {
   "cell_type": "markdown",
   "metadata": {},
   "source": [
    "# Environment Setup and Test\n",
    "\n",
    "__Note:__ If you have already done the environment setup tests and succeeded, you only need to run the cells that:\n",
    "\n",
    "1. Import ```mysql_check```, ```neo4j_check``` and ```mongodb_check```.<br><br>\n",
    "2. Run the cells that set the DB connection information (user ID, password, URL, ...) for the various databases.<br><br>\n",
    "3. You can go directly to the questions."
   ]
  },
  {
   "cell_type": "markdown",
   "metadata": {},
   "source": [
    "## Instructions\n",
    "\n",
    "This section tests your environment. You __MUST__ completely follows and comply with the instructions."
   ]
  },
  {
   "cell_type": "markdown",
   "metadata": {},
   "source": [
    "## Implementation Files\n",
    "\n",
    "- Several of the questions requiring calling databases from Python code. The python code is simple and implements database queries and operations. This complies with the department's guidelines for _non-programming._\n",
    "\n",
    "- There is a section for testing access to each of MySQL, MongoDB and Neo4j. You __must__ have installed or have access to the databases, and if locally installed the database must be running."
   ]
  },
  {
   "cell_type": "markdown",
   "metadata": {},
   "source": [
    "## MySQL\n",
    "\n",
    "\n",
    "- Download and load the [Classic Models](https://www.mysqltutorial.org/mysql-sample-database.aspx) database into MySQL. The download site provides installation instructions.\n",
    "\n",
    "\n",
    "- The comments in the code snippets below provide instructions for completing and executing each cell."
   ]
  },
  {
   "cell_type": "code",
   "execution_count": 1,
   "metadata": {},
   "outputs": [],
   "source": [
    "# Import the MySQL test and implementation template/helper functions from the local directory.\n",
    "# You do not need to modify this cell. You only need to implement it.\n",
    "#\n",
    "import mysql_check"
   ]
  },
  {
   "cell_type": "code",
   "execution_count": 2,
   "metadata": {},
   "outputs": [],
   "source": [
    "#\n",
    "# Call the function below to set the user, password and host for your instance of MySQL.\n",
    "# YOU MUST set the variables to the correct names for instance.\n",
    "#\n",
    "db_user = \"admin\"\n",
    "db_password = \"7Senses_kiki\"\n",
    "db_host = \"tutorialdb.cbezzskgwcl3.us-east-2.rds.amazonaws.com\"\n",
    "\n",
    "mysql_check.set_connect_info(db_user, db_password, db_host)"
   ]
  },
  {
   "cell_type": "code",
   "execution_count": 3,
   "metadata": {},
   "outputs": [
    {
     "data": {
      "text/html": [
       "<div>\n",
       "<style scoped>\n",
       "    .dataframe tbody tr th:only-of-type {\n",
       "        vertical-align: middle;\n",
       "    }\n",
       "\n",
       "    .dataframe tbody tr th {\n",
       "        vertical-align: top;\n",
       "    }\n",
       "\n",
       "    .dataframe thead th {\n",
       "        text-align: right;\n",
       "    }\n",
       "</style>\n",
       "<table border=\"1\" class=\"dataframe\">\n",
       "  <thead>\n",
       "    <tr style=\"text-align: right;\">\n",
       "      <th></th>\n",
       "      <th>Tables_in_classicmodels</th>\n",
       "    </tr>\n",
       "  </thead>\n",
       "  <tbody>\n",
       "    <tr>\n",
       "      <th>0</th>\n",
       "      <td>customers</td>\n",
       "    </tr>\n",
       "    <tr>\n",
       "      <th>1</th>\n",
       "      <td>employees</td>\n",
       "    </tr>\n",
       "    <tr>\n",
       "      <th>2</th>\n",
       "      <td>offices</td>\n",
       "    </tr>\n",
       "    <tr>\n",
       "      <th>3</th>\n",
       "      <td>orderdetails</td>\n",
       "    </tr>\n",
       "    <tr>\n",
       "      <th>4</th>\n",
       "      <td>orders</td>\n",
       "    </tr>\n",
       "    <tr>\n",
       "      <th>5</th>\n",
       "      <td>payments</td>\n",
       "    </tr>\n",
       "    <tr>\n",
       "      <th>6</th>\n",
       "      <td>productlines</td>\n",
       "    </tr>\n",
       "    <tr>\n",
       "      <th>7</th>\n",
       "      <td>products</td>\n",
       "    </tr>\n",
       "  </tbody>\n",
       "</table>\n",
       "</div>"
      ],
      "text/plain": [
       "  Tables_in_classicmodels\n",
       "0               customers\n",
       "1               employees\n",
       "2                 offices\n",
       "3            orderdetails\n",
       "4                  orders\n",
       "5                payments\n",
       "6            productlines\n",
       "7                products"
      ]
     },
     "execution_count": 3,
     "metadata": {},
     "output_type": "execute_result"
    }
   ],
   "source": [
    "#\n",
    "# Execute the code below. Your answer should be the same as the exampple out.\n",
    "#\n",
    "df = mysql_check.test_pymysql()\n",
    "df"
   ]
  },
  {
   "cell_type": "code",
   "execution_count": 4,
   "metadata": {},
   "outputs": [
    {
     "data": {
      "text/html": [
       "<div>\n",
       "<style scoped>\n",
       "    .dataframe tbody tr th:only-of-type {\n",
       "        vertical-align: middle;\n",
       "    }\n",
       "\n",
       "    .dataframe tbody tr th {\n",
       "        vertical-align: top;\n",
       "    }\n",
       "\n",
       "    .dataframe thead th {\n",
       "        text-align: right;\n",
       "    }\n",
       "</style>\n",
       "<table border=\"1\" class=\"dataframe\">\n",
       "  <thead>\n",
       "    <tr style=\"text-align: right;\">\n",
       "      <th></th>\n",
       "      <th>customerNumber</th>\n",
       "      <th>customerName</th>\n",
       "      <th>country</th>\n",
       "    </tr>\n",
       "  </thead>\n",
       "  <tbody>\n",
       "    <tr>\n",
       "      <th>0</th>\n",
       "      <td>103</td>\n",
       "      <td>Atelier graphique</td>\n",
       "      <td>France</td>\n",
       "    </tr>\n",
       "    <tr>\n",
       "      <th>1</th>\n",
       "      <td>119</td>\n",
       "      <td>La Rochelle Gifts</td>\n",
       "      <td>France</td>\n",
       "    </tr>\n",
       "    <tr>\n",
       "      <th>2</th>\n",
       "      <td>146</td>\n",
       "      <td>Saveley &amp; Henriot, Co.</td>\n",
       "      <td>France</td>\n",
       "    </tr>\n",
       "    <tr>\n",
       "      <th>3</th>\n",
       "      <td>171</td>\n",
       "      <td>Daedalus Designs Imports</td>\n",
       "      <td>France</td>\n",
       "    </tr>\n",
       "    <tr>\n",
       "      <th>4</th>\n",
       "      <td>172</td>\n",
       "      <td>La Corne D'abondance, Co.</td>\n",
       "      <td>France</td>\n",
       "    </tr>\n",
       "    <tr>\n",
       "      <th>5</th>\n",
       "      <td>209</td>\n",
       "      <td>Mini Caravy</td>\n",
       "      <td>France</td>\n",
       "    </tr>\n",
       "    <tr>\n",
       "      <th>6</th>\n",
       "      <td>242</td>\n",
       "      <td>Alpha Cognac</td>\n",
       "      <td>France</td>\n",
       "    </tr>\n",
       "    <tr>\n",
       "      <th>7</th>\n",
       "      <td>250</td>\n",
       "      <td>Lyon Souveniers</td>\n",
       "      <td>France</td>\n",
       "    </tr>\n",
       "    <tr>\n",
       "      <th>8</th>\n",
       "      <td>256</td>\n",
       "      <td>Auto Associés &amp; Cie.</td>\n",
       "      <td>France</td>\n",
       "    </tr>\n",
       "    <tr>\n",
       "      <th>9</th>\n",
       "      <td>350</td>\n",
       "      <td>Marseille Mini Autos</td>\n",
       "      <td>France</td>\n",
       "    </tr>\n",
       "    <tr>\n",
       "      <th>10</th>\n",
       "      <td>353</td>\n",
       "      <td>Reims Collectables</td>\n",
       "      <td>France</td>\n",
       "    </tr>\n",
       "    <tr>\n",
       "      <th>11</th>\n",
       "      <td>406</td>\n",
       "      <td>Auto Canal+ Petit</td>\n",
       "      <td>France</td>\n",
       "    </tr>\n",
       "  </tbody>\n",
       "</table>\n",
       "</div>"
      ],
      "text/plain": [
       "    customerNumber               customerName country\n",
       "0              103          Atelier graphique  France\n",
       "1              119          La Rochelle Gifts  France\n",
       "2              146     Saveley & Henriot, Co.  France\n",
       "3              171   Daedalus Designs Imports  France\n",
       "4              172  La Corne D'abondance, Co.  France\n",
       "5              209                Mini Caravy  France\n",
       "6              242               Alpha Cognac  France\n",
       "7              250            Lyon Souveniers  France\n",
       "8              256       Auto Associés & Cie.  France\n",
       "9              350       Marseille Mini Autos  France\n",
       "10             353         Reims Collectables  France\n",
       "11             406          Auto Canal+ Petit  France"
      ]
     },
     "execution_count": 4,
     "metadata": {},
     "output_type": "execute_result"
    }
   ],
   "source": [
    "#\n",
    "# Execute the cell below. Your result should match the example.\n",
    "#\n",
    "result_df = mysql_check.test_sql_alchemy()\n",
    "result_df"
   ]
  },
  {
   "cell_type": "markdown",
   "metadata": {},
   "source": [
    "## Neo4j"
   ]
  },
  {
   "cell_type": "code",
   "execution_count": 5,
   "metadata": {},
   "outputs": [],
   "source": [
    "#\n",
    "# Run this cell.\n",
    "#\n",
    "import neo4j_check"
   ]
  },
  {
   "cell_type": "code",
   "execution_count": 6,
   "metadata": {},
   "outputs": [],
   "source": [
    "#\n",
    "# Set the neo4j user and password for connecting to your database. The user is probably neo4j.\n",
    "# You set the password when you created the project and graph.\n",
    "#\n",
    "db_user = \"neo4j\"\n",
    "db_password = \"7Senses_kiki\"\n",
    "\n",
    "neo4j_check.set_neo4j_connect_info(db_user, db_password)"
   ]
  },
  {
   "cell_type": "code",
   "execution_count": 7,
   "metadata": {},
   "outputs": [
    {
     "data": {
      "text/html": [
       "<div>\n",
       "<style scoped>\n",
       "    .dataframe tbody tr th:only-of-type {\n",
       "        vertical-align: middle;\n",
       "    }\n",
       "\n",
       "    .dataframe tbody tr th {\n",
       "        vertical-align: top;\n",
       "    }\n",
       "\n",
       "    .dataframe thead th {\n",
       "        text-align: right;\n",
       "    }\n",
       "</style>\n",
       "<table border=\"1\" class=\"dataframe\">\n",
       "  <thead>\n",
       "    <tr style=\"text-align: right;\">\n",
       "      <th></th>\n",
       "      <th>name</th>\n",
       "      <th>born</th>\n",
       "    </tr>\n",
       "  </thead>\n",
       "  <tbody>\n",
       "    <tr>\n",
       "      <th>0</th>\n",
       "      <td>Keanu Reeves</td>\n",
       "      <td>1964</td>\n",
       "    </tr>\n",
       "    <tr>\n",
       "      <th>1</th>\n",
       "      <td>Carrie-Anne Moss</td>\n",
       "      <td>1967</td>\n",
       "    </tr>\n",
       "    <tr>\n",
       "      <th>2</th>\n",
       "      <td>Laurence Fishburne</td>\n",
       "      <td>1961</td>\n",
       "    </tr>\n",
       "    <tr>\n",
       "      <th>3</th>\n",
       "      <td>Hugo Weaving</td>\n",
       "      <td>1960</td>\n",
       "    </tr>\n",
       "    <tr>\n",
       "      <th>4</th>\n",
       "      <td>Emil Eifrem</td>\n",
       "      <td>1978</td>\n",
       "    </tr>\n",
       "  </tbody>\n",
       "</table>\n",
       "</div>"
      ],
      "text/plain": [
       "                 name  born\n",
       "0        Keanu Reeves  1964\n",
       "1    Carrie-Anne Moss  1967\n",
       "2  Laurence Fishburne  1961\n",
       "3        Hugo Weaving  1960\n",
       "4         Emil Eifrem  1978"
      ]
     },
     "execution_count": 7,
     "metadata": {},
     "output_type": "execute_result"
    }
   ],
   "source": [
    "#\n",
    "# You database MUST have the Movie DB installed. You had to do this for HW3. Running this cell should produce\n",
    "# the sample output.\n",
    "#\n",
    "res = neo4j_check.get_people_in_matrix()\n",
    "res"
   ]
  },
  {
   "cell_type": "markdown",
   "metadata": {},
   "source": [
    "## MongoDB"
   ]
  },
  {
   "cell_type": "code",
   "execution_count": 8,
   "metadata": {},
   "outputs": [],
   "source": [
    "# Import the MongoDB test and helper functions.\n",
    "#\n",
    "import mongodb_check"
   ]
  },
  {
   "cell_type": "code",
   "execution_count": 9,
   "metadata": {},
   "outputs": [],
   "source": [
    "#\n",
    "# Set the connection URL to get to your instance of MongoDB. You have used this URL\n",
    "# in HW3 and when using Mongo Compass.\n",
    "#\n",
    "connect_url = \"mongodb://localhost:27017/\"\n",
    "mongodb_check.set_connect_url(connect_url)"
   ]
  },
  {
   "cell_type": "code",
   "execution_count": 11,
   "metadata": {},
   "outputs": [
    {
     "data": {
      "text/html": [
       "<div>\n",
       "<style scoped>\n",
       "    .dataframe tbody tr th:only-of-type {\n",
       "        vertical-align: middle;\n",
       "    }\n",
       "\n",
       "    .dataframe tbody tr th {\n",
       "        vertical-align: top;\n",
       "    }\n",
       "\n",
       "    .dataframe thead th {\n",
       "        text-align: right;\n",
       "    }\n",
       "</style>\n",
       "<table border=\"1\" class=\"dataframe\">\n",
       "  <thead>\n",
       "    <tr style=\"text-align: right;\">\n",
       "      <th></th>\n",
       "      <th>_id</th>\n",
       "      <th>customerNumber</th>\n",
       "      <th>customerName</th>\n",
       "      <th>country</th>\n",
       "    </tr>\n",
       "  </thead>\n",
       "  <tbody>\n",
       "    <tr>\n",
       "      <th>0</th>\n",
       "      <td>61b92940a52a45eb192b40ce</td>\n",
       "      <td>103</td>\n",
       "      <td>Atelier graphique</td>\n",
       "      <td>France</td>\n",
       "    </tr>\n",
       "    <tr>\n",
       "      <th>1</th>\n",
       "      <td>61b92940a52a45eb192b40d1</td>\n",
       "      <td>119</td>\n",
       "      <td>La Rochelle Gifts</td>\n",
       "      <td>France</td>\n",
       "    </tr>\n",
       "    <tr>\n",
       "      <th>2</th>\n",
       "      <td>61b92940a52a45eb192b40db</td>\n",
       "      <td>146</td>\n",
       "      <td>Saveley &amp; Henriot, Co.</td>\n",
       "      <td>France</td>\n",
       "    </tr>\n",
       "    <tr>\n",
       "      <th>3</th>\n",
       "      <td>61b92940a52a45eb192b40e4</td>\n",
       "      <td>171</td>\n",
       "      <td>Daedalus Designs Imports</td>\n",
       "      <td>France</td>\n",
       "    </tr>\n",
       "    <tr>\n",
       "      <th>4</th>\n",
       "      <td>61b92940a52a45eb192b40e5</td>\n",
       "      <td>172</td>\n",
       "      <td>La Corne D'abondance, Co.</td>\n",
       "      <td>France</td>\n",
       "    </tr>\n",
       "    <tr>\n",
       "      <th>5</th>\n",
       "      <td>61b92940a52a45eb192b40f3</td>\n",
       "      <td>209</td>\n",
       "      <td>Mini Caravy</td>\n",
       "      <td>France</td>\n",
       "    </tr>\n",
       "    <tr>\n",
       "      <th>6</th>\n",
       "      <td>61b92940a52a45eb192b40fd</td>\n",
       "      <td>242</td>\n",
       "      <td>Alpha Cognac</td>\n",
       "      <td>France</td>\n",
       "    </tr>\n",
       "    <tr>\n",
       "      <th>7</th>\n",
       "      <td>61b92940a52a45eb192b4100</td>\n",
       "      <td>250</td>\n",
       "      <td>Lyon Souveniers</td>\n",
       "      <td>France</td>\n",
       "    </tr>\n",
       "    <tr>\n",
       "      <th>8</th>\n",
       "      <td>61b92940a52a45eb192b4101</td>\n",
       "      <td>256</td>\n",
       "      <td>Auto Associés &amp; Cie.</td>\n",
       "      <td>France</td>\n",
       "    </tr>\n",
       "    <tr>\n",
       "      <th>9</th>\n",
       "      <td>61b92940a52a45eb192b411d</td>\n",
       "      <td>350</td>\n",
       "      <td>Marseille Mini Autos</td>\n",
       "      <td>France</td>\n",
       "    </tr>\n",
       "    <tr>\n",
       "      <th>10</th>\n",
       "      <td>61b92940a52a45eb192b411e</td>\n",
       "      <td>353</td>\n",
       "      <td>Reims Collectables</td>\n",
       "      <td>France</td>\n",
       "    </tr>\n",
       "    <tr>\n",
       "      <th>11</th>\n",
       "      <td>61b92940a52a45eb192b412c</td>\n",
       "      <td>406</td>\n",
       "      <td>Auto Canal+ Petit</td>\n",
       "      <td>France</td>\n",
       "    </tr>\n",
       "  </tbody>\n",
       "</table>\n",
       "</div>"
      ],
      "text/plain": [
       "                         _id customerNumber               customerName country\n",
       "0   61b92940a52a45eb192b40ce            103          Atelier graphique  France\n",
       "1   61b92940a52a45eb192b40d1            119          La Rochelle Gifts  France\n",
       "2   61b92940a52a45eb192b40db            146     Saveley & Henriot, Co.  France\n",
       "3   61b92940a52a45eb192b40e4            171   Daedalus Designs Imports  France\n",
       "4   61b92940a52a45eb192b40e5            172  La Corne D'abondance, Co.  France\n",
       "5   61b92940a52a45eb192b40f3            209                Mini Caravy  France\n",
       "6   61b92940a52a45eb192b40fd            242               Alpha Cognac  France\n",
       "7   61b92940a52a45eb192b4100            250            Lyon Souveniers  France\n",
       "8   61b92940a52a45eb192b4101            256       Auto Associés & Cie.  France\n",
       "9   61b92940a52a45eb192b411d            350       Marseille Mini Autos  France\n",
       "10  61b92940a52a45eb192b411e            353         Reims Collectables  France\n",
       "11  61b92940a52a45eb192b412c            406          Auto Canal+ Petit  France"
      ]
     },
     "execution_count": 11,
     "metadata": {},
     "output_type": "execute_result"
    }
   ],
   "source": [
    "#\n",
    "# Run the following function. This will load information into MongoDB and test the loading.\n",
    "#\n",
    "df = mongodb_check.load_and_test_mongo()\n",
    "df"
   ]
  },
  {
   "cell_type": "markdown",
   "metadata": {},
   "source": [
    "# 1. Database Core Concepts (10 points)"
   ]
  },
  {
   "cell_type": "markdown",
   "metadata": {},
   "source": [
    " - There is a [Google Doc](https://docs.google.com/document/d/1b0VVAS_LC25iMjIBx9zP9UhDg5eqsVoQ6h6Wdb68KwQ/edit?usp=sharing).\n",
    " \n",
    " \n",
    " - Make a copy of the Google Doc. Answer the questions in the document. You will submit a PDF of the document and your answers in the zip file you submit. The file must be in the folder and name __question1.pdf.__"
   ]
  },
  {
   "cell_type": "markdown",
   "metadata": {},
   "source": [
    "# 2. Relational Algebra"
   ]
  },
  {
   "cell_type": "markdown",
   "metadata": {},
   "source": [
    "## Instructions"
   ]
  },
  {
   "cell_type": "markdown",
   "metadata": {},
   "source": [
    "You will use the [online relational]() calculator to answer some of the subquestions. For these questions, your answer must contain:\n",
    "- The text of the relational statement. The TAs may cut, paste and run the statement and it must work.\n",
    "- An image showing the results of your execution.\n",
    "- There is an example below.\n"
   ]
  },
  {
   "cell_type": "markdown",
   "metadata": {},
   "source": [
    "## Example\n",
    "\n",
    "__Question__"
   ]
  },
  {
   "cell_type": "markdown",
   "metadata": {},
   "source": [
    "- Use the \"Silberschatz - UniversityDB\" for this question.\n",
    "\n",
    "\n",
    "- Professor Wu taught only one section.  Produce the following information for the section.\n",
    "\n",
    "| instructor.name |\tcourse.title\t| course.course_id\t| teaches.semester| \tteaches.year|\n",
    "| :---: | :---: | :---: | :---: | :---: |\n",
    "|'Wu' |\t'Investment Banking'|\t'FIN-201' |\t'Spring' |\t2010 |\n",
    "\n"
   ]
  },
  {
   "attachments": {
    "image.png": {
     "image/png": "[encoded data removed]"
    }
   },
   "cell_type": "markdown",
   "metadata": {},
   "source": [
    "__Answer__\n",
    "\n",
    "```\n",
    "π name, title, course_id, semester, year\n",
    "\t(course ⨝ (σ name='Wu' (instructor ⨝ (teaches ⨝ section))))\n",
    "\n",
    "```\n",
    "\n",
    "![image.png](attachment:image.png)\n"
   ]
  },
  {
   "cell_type": "markdown",
   "metadata": {},
   "source": [
    "## 2.1 Relation Model Schema (2 points)\n",
    "\n",
    "__Question__\n",
    "\n",
    "- The following is a simple MySQL table definition.\n",
    "\n",
    "```\n",
    "CREATE TABLE `new_table` (\n",
    "  `product_category` INT NOT NULL,\n",
    "  `produce_code` VARCHAR(45) NOT NULL,\n",
    "  `product_name` VARCHAR(45) NULL,\n",
    "  `product_description` VARCHAR(45) NULL,\n",
    "  PRIMARY KEY (`product_category`, `produce_code`));\n",
    "```\n",
    "\n",
    "- Using the notation from chapter 2 slides for defining a relational schema, provide the corresponding relation schema definition. \n",
    "    - Ignore the column types, ```NOT NULL```, etc.\n",
    "    - Two under-bar text, you can use ```$\\underline{cat}$``` to produce $\\underline{cat}$."
   ]
  },
  {
   "cell_type": "markdown",
   "metadata": {},
   "source": [
    "__Answer__ (In Markdown cell below)<br>\n"
   ]
  },
  {
   "cell_type": "markdown",
   "metadata": {},
   "source": [
    "$new\\_table(\\underline{product\\_category}, \\underline{produce\\_code}, product\\_name, product\\_description)$"
   ]
  },
  {
   "cell_type": "markdown",
   "metadata": {},
   "source": [
    "## 2.2 Relational Algebra (4 points)"
   ]
  },
  {
   "cell_type": "markdown",
   "metadata": {},
   "source": [
    "__Question__\n",
    "\n",
    "- Provide your answer following the examples' format.\n",
    "\n",
    "\n",
    "- Use the RelaX calculator the \"Silberschatz - UniversityDB\" for this question.\n",
    "\n",
    "\n",
    "- A section ```r``` overlaps with another section ```l``` if and only if: They occured at the same time (```year```, ```semester```, ```time_salot_id```).\n",
    "\n",
    "\n",
    "- Produce the following table that shows the overlapping sections.\n",
    "\n",
    "\n",
    "| r.title            | r.course_id | r.sec_id | l.title         | l.course_id | l.sec_id | l.year | l.semester | l.time_slot_id | \n",
    "|--------------------|-------------|----------|-----------------|-------------|----------|--------|------------|----------------| \n",
    "| 'Image Processing' | 'CS-319'    | 2        | 'World History' | 'HIS-351'   | 1        | 2010   | 'Spring'   | 'C'       \n"
   ]
  },
  {
   "cell_type": "markdown",
   "metadata": {},
   "source": [
    "__Answer__\n",
    "\n"
   ]
  },
  {
   "cell_type": "markdown",
   "metadata": {},
   "source": [
    "X = π title, course.course_id, sec_id, year, semester, time_slot_id (section ⨝ section.course_id = course.course_id course)\n",
    "\n",
    "π r.title, r.course_id, r.sec_id, l.title, l.course_id, l.sec_id, l.year, l.semester, l.time_slot_id \n",
    "σ r.year = l.year and r.semester = l.semester and r.time_slot_id = l.time_slot_id\n",
    "((ρ r X) ⨝ r.course_id < l.course_id (ρ l X))"
   ]
  },
  {
   "cell_type": "markdown",
   "metadata": {},
   "source": [
    "![image.png](./relax_1.png)"
   ]
  },
  {
   "cell_type": "markdown",
   "metadata": {},
   "source": [
    "## 2.3 Relational Algebra (4 points)\n",
    "\n",
    "__Question__\n",
    "\n",
    "- The relation algebra has additional operators for ordering, aggregation/group by, etc.\n",
    "\n",
    "\n",
    "- A simple analysis of the data in the data in \"Silberschatz - UniversityDB\"  shows that the ```takes``` table must be incomplete. Produce the following table, where ```sum_of_credits``` is the sum of a student's credits based on the information in ```takes.```\n",
    "\n",
    "| student_ID | student_name | sum_of_taken_credits | student.tot_cred | \n",
    "|------------|--------------|----------------------|------------------| \n",
    "| 76653      | 'Aoi'        | 3                    | 60               | \n",
    "| 19991      | 'Brandt'     | 3                    | 80               | \n",
    "| 76543      | 'Brown'      | 7                    | 58               | \n",
    "| 23121      | 'Chavez'     | 3                    | 110              | \n",
    "| 44553      | 'Peltier'    | 4                    | 56               | \n",
    "| 55739      | 'Sanchez'    | 3                    | 38               | \n",
    "| 12345      | 'Shankar'    | 14                   | 32               | \n",
    "| 98988      | 'Tanaka'     | 8                    | 120              | \n",
    "| 54321      | 'Williams'   | 8                    | 54               | \n",
    "| 128        | 'Zhang'      | 7                    | 102              | \n"
   ]
  },
  {
   "cell_type": "markdown",
   "metadata": {},
   "source": [
    "__Answer__\n"
   ]
  },
  {
   "cell_type": "markdown",
   "metadata": {},
   "source": [
    "X = (student ⨝ student.ID = takes.ID takes) ⨝ takes.course_id = course.course_id course \n",
    "\n",
    "Y = γ student.ID, student.name, student.tot_cred ; sum(course.credits)→sum_of_taken_credits (X)\n",
    "\n",
    "τ student.name (π student.ID, student.name, sum_of_taken_credits, student.tot_cred Y)"
   ]
  },
  {
   "cell_type": "markdown",
   "metadata": {},
   "source": [
    "![image.png](./relax_2_1.png)"
   ]
  },
  {
   "cell_type": "markdown",
   "metadata": {},
   "source": [
    "![image.png](./relax_2_2.png)"
   ]
  },
  {
   "cell_type": "markdown",
   "metadata": {},
   "source": [
    "![image.png](./relax_2_3.png)"
   ]
  },
  {
   "cell_type": "markdown",
   "metadata": {},
   "source": [
    "# 3. SQL Query"
   ]
  },
  {
   "cell_type": "markdown",
   "metadata": {},
   "source": [
    "## Instructions and Example\n",
    "\n",
    "__You must follow and comply with the instructions for completing the questions in this section. Any deviation from the format is a score of 0.__\n",
    "\n",
    "1. The zip file you downloaded contains a file ```question_2_sql.py```. The file contains:\n",
    "    - An example of the format and approach to answers.\n",
    "    - An empty function for each answer. You answer the question by completing the function's implementation.\n",
    "\n",
    "\n",
    "2. The sample returns a Pandas data frame with ```customerNumber, customerName and Country.``` The country is a parameter to the function call.\n"
   ]
  },
  {
   "cell_type": "code",
   "execution_count": 1,
   "metadata": {},
   "outputs": [],
   "source": [
    "import question_3_sql"
   ]
  },
  {
   "cell_type": "code",
   "execution_count": 2,
   "metadata": {},
   "outputs": [
    {
     "data": {
      "text/html": [
       "<div>\n",
       "<style scoped>\n",
       "    .dataframe tbody tr th:only-of-type {\n",
       "        vertical-align: middle;\n",
       "    }\n",
       "\n",
       "    .dataframe tbody tr th {\n",
       "        vertical-align: top;\n",
       "    }\n",
       "\n",
       "    .dataframe thead th {\n",
       "        text-align: right;\n",
       "    }\n",
       "</style>\n",
       "<table border=\"1\" class=\"dataframe\">\n",
       "  <thead>\n",
       "    <tr style=\"text-align: right;\">\n",
       "      <th></th>\n",
       "      <th>customerNumber</th>\n",
       "      <th>customerName</th>\n",
       "      <th>country</th>\n",
       "    </tr>\n",
       "  </thead>\n",
       "  <tbody>\n",
       "    <tr>\n",
       "      <th>0</th>\n",
       "      <td>103</td>\n",
       "      <td>Atelier graphique</td>\n",
       "      <td>France</td>\n",
       "    </tr>\n",
       "    <tr>\n",
       "      <th>1</th>\n",
       "      <td>119</td>\n",
       "      <td>La Rochelle Gifts</td>\n",
       "      <td>France</td>\n",
       "    </tr>\n",
       "    <tr>\n",
       "      <th>2</th>\n",
       "      <td>146</td>\n",
       "      <td>Saveley &amp; Henriot, Co.</td>\n",
       "      <td>France</td>\n",
       "    </tr>\n",
       "    <tr>\n",
       "      <th>3</th>\n",
       "      <td>171</td>\n",
       "      <td>Daedalus Designs Imports</td>\n",
       "      <td>France</td>\n",
       "    </tr>\n",
       "    <tr>\n",
       "      <th>4</th>\n",
       "      <td>172</td>\n",
       "      <td>La Corne D'abondance, Co.</td>\n",
       "      <td>France</td>\n",
       "    </tr>\n",
       "    <tr>\n",
       "      <th>5</th>\n",
       "      <td>209</td>\n",
       "      <td>Mini Caravy</td>\n",
       "      <td>France</td>\n",
       "    </tr>\n",
       "    <tr>\n",
       "      <th>6</th>\n",
       "      <td>242</td>\n",
       "      <td>Alpha Cognac</td>\n",
       "      <td>France</td>\n",
       "    </tr>\n",
       "    <tr>\n",
       "      <th>7</th>\n",
       "      <td>250</td>\n",
       "      <td>Lyon Souveniers</td>\n",
       "      <td>France</td>\n",
       "    </tr>\n",
       "    <tr>\n",
       "      <th>8</th>\n",
       "      <td>256</td>\n",
       "      <td>Auto Associés &amp; Cie.</td>\n",
       "      <td>France</td>\n",
       "    </tr>\n",
       "    <tr>\n",
       "      <th>9</th>\n",
       "      <td>350</td>\n",
       "      <td>Marseille Mini Autos</td>\n",
       "      <td>France</td>\n",
       "    </tr>\n",
       "    <tr>\n",
       "      <th>10</th>\n",
       "      <td>353</td>\n",
       "      <td>Reims Collectables</td>\n",
       "      <td>France</td>\n",
       "    </tr>\n",
       "    <tr>\n",
       "      <th>11</th>\n",
       "      <td>406</td>\n",
       "      <td>Auto Canal+ Petit</td>\n",
       "      <td>France</td>\n",
       "    </tr>\n",
       "  </tbody>\n",
       "</table>\n",
       "</div>"
      ],
      "text/plain": [
       "    customerNumber               customerName country\n",
       "0              103          Atelier graphique  France\n",
       "1              119          La Rochelle Gifts  France\n",
       "2              146     Saveley & Henriot, Co.  France\n",
       "3              171   Daedalus Designs Imports  France\n",
       "4              172  La Corne D'abondance, Co.  France\n",
       "5              209                Mini Caravy  France\n",
       "6              242               Alpha Cognac  France\n",
       "7              250            Lyon Souveniers  France\n",
       "8              256       Auto Associés & Cie.  France\n",
       "9              350       Marseille Mini Autos  France\n",
       "10             353         Reims Collectables  France\n",
       "11             406          Auto Canal+ Petit  France"
      ]
     },
     "execution_count": 2,
     "metadata": {},
     "output_type": "execute_result"
    }
   ],
   "source": [
    "#\n",
    "# Call the function with the parameter France and display the resulting data frame.\n",
    "#\n",
    "result = question_3_sql.question_3_example_get_customers('France')\n",
    "result"
   ]
  },
  {
   "cell_type": "markdown",
   "metadata": {},
   "source": [
    "## 3.1 Revenue by Country (2 points)\n",
    "\n",
    "__Question__\n",
    "\n",
    "1. An ```order``` is a a set of ```orderdetails.```<br><br>\n",
    "2. The value/revenue for an ```orderdetails``` is ```priceEach*quantityOrdered```<br><br>\n",
    "3. The value/revenue for an ```order``` is the sum of the value/revenue of the ```orderdetails.```<br><br> \n",
    "\n",
    "- Implement the function ```revenue_by_country```. We provide an example for the output. The company can only claim revenue if the order has ```shipped.```"
   ]
  },
  {
   "cell_type": "markdown",
   "metadata": {},
   "source": [
    "__Answer__"
   ]
  },
  {
   "cell_type": "code",
   "execution_count": 3,
   "metadata": {},
   "outputs": [
    {
     "data": {
      "text/html": [
       "<div>\n",
       "<style scoped>\n",
       "    .dataframe tbody tr th:only-of-type {\n",
       "        vertical-align: middle;\n",
       "    }\n",
       "\n",
       "    .dataframe tbody tr th {\n",
       "        vertical-align: top;\n",
       "    }\n",
       "\n",
       "    .dataframe thead th {\n",
       "        text-align: right;\n",
       "    }\n",
       "</style>\n",
       "<table border=\"1\" class=\"dataframe\">\n",
       "  <thead>\n",
       "    <tr style=\"text-align: right;\">\n",
       "      <th></th>\n",
       "      <th>country</th>\n",
       "      <th>revenue</th>\n",
       "    </tr>\n",
       "  </thead>\n",
       "  <tbody>\n",
       "    <tr>\n",
       "      <th>0</th>\n",
       "      <td>USA</td>\n",
       "      <td>3032204.26</td>\n",
       "    </tr>\n",
       "    <tr>\n",
       "      <th>1</th>\n",
       "      <td>Germany</td>\n",
       "      <td>196470.99</td>\n",
       "    </tr>\n",
       "    <tr>\n",
       "      <th>2</th>\n",
       "      <td>Norway</td>\n",
       "      <td>270846.30</td>\n",
       "    </tr>\n",
       "    <tr>\n",
       "      <th>3</th>\n",
       "      <td>Spain</td>\n",
       "      <td>947470.01</td>\n",
       "    </tr>\n",
       "    <tr>\n",
       "      <th>4</th>\n",
       "      <td>Denmark</td>\n",
       "      <td>176791.44</td>\n",
       "    </tr>\n",
       "    <tr>\n",
       "      <th>5</th>\n",
       "      <td>Italy</td>\n",
       "      <td>360616.81</td>\n",
       "    </tr>\n",
       "    <tr>\n",
       "      <th>6</th>\n",
       "      <td>Philippines</td>\n",
       "      <td>87468.30</td>\n",
       "    </tr>\n",
       "    <tr>\n",
       "      <th>7</th>\n",
       "      <td>UK</td>\n",
       "      <td>391503.90</td>\n",
       "    </tr>\n",
       "    <tr>\n",
       "      <th>8</th>\n",
       "      <td>Sweden</td>\n",
       "      <td>120457.09</td>\n",
       "    </tr>\n",
       "    <tr>\n",
       "      <th>9</th>\n",
       "      <td>France</td>\n",
       "      <td>965750.58</td>\n",
       "    </tr>\n",
       "    <tr>\n",
       "      <th>10</th>\n",
       "      <td>Belgium</td>\n",
       "      <td>91471.03</td>\n",
       "    </tr>\n",
       "    <tr>\n",
       "      <th>11</th>\n",
       "      <td>Singapore</td>\n",
       "      <td>263997.78</td>\n",
       "    </tr>\n",
       "    <tr>\n",
       "      <th>12</th>\n",
       "      <td>Austria</td>\n",
       "      <td>161418.16</td>\n",
       "    </tr>\n",
       "    <tr>\n",
       "      <th>13</th>\n",
       "      <td>Australia</td>\n",
       "      <td>509385.82</td>\n",
       "    </tr>\n",
       "    <tr>\n",
       "      <th>14</th>\n",
       "      <td>New Zealand</td>\n",
       "      <td>416114.03</td>\n",
       "    </tr>\n",
       "    <tr>\n",
       "      <th>15</th>\n",
       "      <td>Finland</td>\n",
       "      <td>295149.35</td>\n",
       "    </tr>\n",
       "    <tr>\n",
       "      <th>16</th>\n",
       "      <td>Canada</td>\n",
       "      <td>205911.86</td>\n",
       "    </tr>\n",
       "    <tr>\n",
       "      <th>17</th>\n",
       "      <td>Hong Kong</td>\n",
       "      <td>45480.79</td>\n",
       "    </tr>\n",
       "    <tr>\n",
       "      <th>18</th>\n",
       "      <td>Japan</td>\n",
       "      <td>167909.95</td>\n",
       "    </tr>\n",
       "    <tr>\n",
       "      <th>19</th>\n",
       "      <td>Ireland</td>\n",
       "      <td>49898.27</td>\n",
       "    </tr>\n",
       "    <tr>\n",
       "      <th>20</th>\n",
       "      <td>Switzerland</td>\n",
       "      <td>108777.92</td>\n",
       "    </tr>\n",
       "  </tbody>\n",
       "</table>\n",
       "</div>"
      ],
      "text/plain": [
       "        country     revenue\n",
       "0           USA  3032204.26\n",
       "1       Germany   196470.99\n",
       "2        Norway   270846.30\n",
       "3         Spain   947470.01\n",
       "4       Denmark   176791.44\n",
       "5         Italy   360616.81\n",
       "6   Philippines    87468.30\n",
       "7            UK   391503.90\n",
       "8        Sweden   120457.09\n",
       "9        France   965750.58\n",
       "10      Belgium    91471.03\n",
       "11    Singapore   263997.78\n",
       "12      Austria   161418.16\n",
       "13    Australia   509385.82\n",
       "14  New Zealand   416114.03\n",
       "15      Finland   295149.35\n",
       "16       Canada   205911.86\n",
       "17    Hong Kong    45480.79\n",
       "18        Japan   167909.95\n",
       "19      Ireland    49898.27\n",
       "20  Switzerland   108777.92"
      ]
     },
     "execution_count": 3,
     "metadata": {},
     "output_type": "execute_result"
    }
   ],
   "source": [
    "result = question_3_sql.question_3_revenue_by_country()\n",
    "result"
   ]
  },
  {
   "cell_type": "markdown",
   "metadata": {},
   "source": [
    "## 3.2 Customer Payments and Customer Purchases (2 points)\n",
    "\n",
    "__Question__\n",
    "\n",
    "1. ```classicmodels.payments``` records customer payments.<br><br>\n",
    "2. You can use the the formula above for computing the cost of an order.<br><br>\n",
    "3. The total owed by a customer is the total value/revenue for all orders. For the purposes of this problem, you should include all orders and not just the ones that shipped.<br><br>\n",
    "4. Implement the functions ```purchases_and_payments.``` The function returns a data frame with the following columns.\n",
    "    - ```customerNumber```\n",
    "    - ```customerName```\n",
    "    - ```total_spent``` is the total value/cost over all orders by the customer.\n",
    "    - ```total_payments``` is the total paid by the customer over all payments.\n",
    "    - ```total_unpaid``` is the difference between ```total_spent``` and ```total_payments.```<br><br>\n",
    "5. Order the result by ```customerName.```<br><br>\n",
    "6. You must use at least one sub-query in your answer.\n",
    "    "
   ]
  },
  {
   "cell_type": "markdown",
   "metadata": {},
   "source": [
    "__Answer__"
   ]
  },
  {
   "cell_type": "code",
   "execution_count": 4,
   "metadata": {},
   "outputs": [
    {
     "data": {
      "text/html": [
       "<div>\n",
       "<style scoped>\n",
       "    .dataframe tbody tr th:only-of-type {\n",
       "        vertical-align: middle;\n",
       "    }\n",
       "\n",
       "    .dataframe tbody tr th {\n",
       "        vertical-align: top;\n",
       "    }\n",
       "\n",
       "    .dataframe thead th {\n",
       "        text-align: right;\n",
       "    }\n",
       "</style>\n",
       "<table border=\"1\" class=\"dataframe\">\n",
       "  <thead>\n",
       "    <tr style=\"text-align: right;\">\n",
       "      <th></th>\n",
       "      <th>customerNumber</th>\n",
       "      <th>customerName</th>\n",
       "      <th>total_spent</th>\n",
       "      <th>total_payments</th>\n",
       "      <th>total_unpaid</th>\n",
       "    </tr>\n",
       "  </thead>\n",
       "  <tbody>\n",
       "    <tr>\n",
       "      <th>0</th>\n",
       "      <td>242</td>\n",
       "      <td>Alpha Cognac</td>\n",
       "      <td>60483.36</td>\n",
       "      <td>60483.36</td>\n",
       "      <td>0.00</td>\n",
       "    </tr>\n",
       "    <tr>\n",
       "      <th>1</th>\n",
       "      <td>249</td>\n",
       "      <td>Amica Models &amp; Co.</td>\n",
       "      <td>82223.23</td>\n",
       "      <td>82223.23</td>\n",
       "      <td>0.00</td>\n",
       "    </tr>\n",
       "    <tr>\n",
       "      <th>2</th>\n",
       "      <td>276</td>\n",
       "      <td>Anna's Decorations, Ltd</td>\n",
       "      <td>137034.22</td>\n",
       "      <td>137034.22</td>\n",
       "      <td>0.00</td>\n",
       "    </tr>\n",
       "    <tr>\n",
       "      <th>3</th>\n",
       "      <td>103</td>\n",
       "      <td>Atelier graphique</td>\n",
       "      <td>22314.36</td>\n",
       "      <td>22314.36</td>\n",
       "      <td>0.00</td>\n",
       "    </tr>\n",
       "    <tr>\n",
       "      <th>4</th>\n",
       "      <td>471</td>\n",
       "      <td>Australian Collectables, Ltd</td>\n",
       "      <td>55866.02</td>\n",
       "      <td>44920.76</td>\n",
       "      <td>10945.26</td>\n",
       "    </tr>\n",
       "    <tr>\n",
       "      <th>...</th>\n",
       "      <td>...</td>\n",
       "      <td>...</td>\n",
       "      <td>...</td>\n",
       "      <td>...</td>\n",
       "      <td>...</td>\n",
       "    </tr>\n",
       "    <tr>\n",
       "      <th>93</th>\n",
       "      <td>201</td>\n",
       "      <td>UK Collectables, Ltd.</td>\n",
       "      <td>106610.72</td>\n",
       "      <td>61167.18</td>\n",
       "      <td>45443.54</td>\n",
       "    </tr>\n",
       "    <tr>\n",
       "      <th>94</th>\n",
       "      <td>298</td>\n",
       "      <td>Vida Sport, Ltd</td>\n",
       "      <td>108777.92</td>\n",
       "      <td>108777.92</td>\n",
       "      <td>0.00</td>\n",
       "    </tr>\n",
       "    <tr>\n",
       "      <th>95</th>\n",
       "      <td>181</td>\n",
       "      <td>Vitachrome Inc.</td>\n",
       "      <td>72497.64</td>\n",
       "      <td>72497.64</td>\n",
       "      <td>0.00</td>\n",
       "    </tr>\n",
       "    <tr>\n",
       "      <th>96</th>\n",
       "      <td>144</td>\n",
       "      <td>Volvo Model Replicas, Co</td>\n",
       "      <td>66694.82</td>\n",
       "      <td>43680.65</td>\n",
       "      <td>23014.17</td>\n",
       "    </tr>\n",
       "    <tr>\n",
       "      <th>97</th>\n",
       "      <td>475</td>\n",
       "      <td>West Coast Collectables Co.</td>\n",
       "      <td>43748.72</td>\n",
       "      <td>43748.72</td>\n",
       "      <td>0.00</td>\n",
       "    </tr>\n",
       "  </tbody>\n",
       "</table>\n",
       "<p>98 rows × 5 columns</p>\n",
       "</div>"
      ],
      "text/plain": [
       "    customerNumber                  customerName total_spent total_payments  \\\n",
       "0              242                  Alpha Cognac    60483.36       60483.36   \n",
       "1              249            Amica Models & Co.    82223.23       82223.23   \n",
       "2              276       Anna's Decorations, Ltd   137034.22      137034.22   \n",
       "3              103             Atelier graphique    22314.36       22314.36   \n",
       "4              471  Australian Collectables, Ltd    55866.02       44920.76   \n",
       "..             ...                           ...         ...            ...   \n",
       "93             201         UK Collectables, Ltd.   106610.72       61167.18   \n",
       "94             298               Vida Sport, Ltd   108777.92      108777.92   \n",
       "95             181               Vitachrome Inc.    72497.64       72497.64   \n",
       "96             144      Volvo Model Replicas, Co    66694.82       43680.65   \n",
       "97             475   West Coast Collectables Co.    43748.72       43748.72   \n",
       "\n",
       "   total_unpaid  \n",
       "0          0.00  \n",
       "1          0.00  \n",
       "2          0.00  \n",
       "3          0.00  \n",
       "4      10945.26  \n",
       "..          ...  \n",
       "93     45443.54  \n",
       "94         0.00  \n",
       "95         0.00  \n",
       "96     23014.17  \n",
       "97         0.00  \n",
       "\n",
       "[98 rows x 5 columns]"
      ]
     },
     "execution_count": 4,
     "metadata": {},
     "output_type": "execute_result"
    }
   ],
   "source": [
    "#\n",
    "# Execute this cell to display your answer.\n",
    "#\n",
    "result = question_3_sql.question_3_purchases_and_payments()\n",
    "result"
   ]
  },
  {
   "cell_type": "markdown",
   "metadata": {},
   "source": [
    "## 3.3 What Customers Buy What? (1 point)"
   ]
  },
  {
   "cell_type": "markdown",
   "metadata": {},
   "source": [
    "__Question__\n",
    "\n",
    "1. ```Products``` are in ```productLines.```<br><br>\n",
    "2. Product a table that contains the ```customerNumber``` and ```customerName``` for all customers that have not orders a product from line ```Planes``` and not ordered a product from line ```Trucks and Buses.```\n"
   ]
  },
  {
   "cell_type": "markdown",
   "metadata": {},
   "source": [
    "__Answer__"
   ]
  },
  {
   "cell_type": "code",
   "execution_count": 5,
   "metadata": {},
   "outputs": [
    {
     "data": {
      "text/html": [
       "<div>\n",
       "<style scoped>\n",
       "    .dataframe tbody tr th:only-of-type {\n",
       "        vertical-align: middle;\n",
       "    }\n",
       "\n",
       "    .dataframe tbody tr th {\n",
       "        vertical-align: top;\n",
       "    }\n",
       "\n",
       "    .dataframe thead th {\n",
       "        text-align: right;\n",
       "    }\n",
       "</style>\n",
       "<table border=\"1\" class=\"dataframe\">\n",
       "  <thead>\n",
       "    <tr style=\"text-align: right;\">\n",
       "      <th></th>\n",
       "      <th>customerNumber</th>\n",
       "      <th>customerName</th>\n",
       "    </tr>\n",
       "  </thead>\n",
       "  <tbody>\n",
       "    <tr>\n",
       "      <th>0</th>\n",
       "      <td>103</td>\n",
       "      <td>Atelier graphique</td>\n",
       "    </tr>\n",
       "    <tr>\n",
       "      <th>1</th>\n",
       "      <td>112</td>\n",
       "      <td>Signal Gift Stores</td>\n",
       "    </tr>\n",
       "    <tr>\n",
       "      <th>2</th>\n",
       "      <td>125</td>\n",
       "      <td>Havel &amp; Zbyszek Co</td>\n",
       "    </tr>\n",
       "    <tr>\n",
       "      <th>3</th>\n",
       "      <td>145</td>\n",
       "      <td>Danish Wholesale Imports</td>\n",
       "    </tr>\n",
       "    <tr>\n",
       "      <th>4</th>\n",
       "      <td>167</td>\n",
       "      <td>Herkku Gifts</td>\n",
       "    </tr>\n",
       "    <tr>\n",
       "      <th>...</th>\n",
       "      <td>...</td>\n",
       "      <td>...</td>\n",
       "    </tr>\n",
       "    <tr>\n",
       "      <th>67</th>\n",
       "      <td>480</td>\n",
       "      <td>Kremlin Collectables, Co.</td>\n",
       "    </tr>\n",
       "    <tr>\n",
       "      <th>68</th>\n",
       "      <td>481</td>\n",
       "      <td>Raanan Stores, Inc</td>\n",
       "    </tr>\n",
       "    <tr>\n",
       "      <th>69</th>\n",
       "      <td>486</td>\n",
       "      <td>Motor Mint Distributors Inc.</td>\n",
       "    </tr>\n",
       "    <tr>\n",
       "      <th>70</th>\n",
       "      <td>489</td>\n",
       "      <td>Double Decker Gift Stores, Ltd</td>\n",
       "    </tr>\n",
       "    <tr>\n",
       "      <th>71</th>\n",
       "      <td>496</td>\n",
       "      <td>Kelly's Gift Shop</td>\n",
       "    </tr>\n",
       "  </tbody>\n",
       "</table>\n",
       "<p>72 rows × 2 columns</p>\n",
       "</div>"
      ],
      "text/plain": [
       "    customerNumber                    customerName\n",
       "0              103               Atelier graphique\n",
       "1              112              Signal Gift Stores\n",
       "2              125              Havel & Zbyszek Co\n",
       "3              145        Danish Wholesale Imports\n",
       "4              167                    Herkku Gifts\n",
       "..             ...                             ...\n",
       "67             480       Kremlin Collectables, Co.\n",
       "68             481              Raanan Stores, Inc\n",
       "69             486    Motor Mint Distributors Inc.\n",
       "70             489  Double Decker Gift Stores, Ltd\n",
       "71             496               Kelly's Gift Shop\n",
       "\n",
       "[72 rows x 2 columns]"
      ]
     },
     "execution_count": 5,
     "metadata": {},
     "output_type": "execute_result"
    }
   ],
   "source": [
    "#\n",
    "# Run the cell below.\n",
    "#\n",
    "result = question_3_sql.question_3_customers_and_lines()\n",
    "result"
   ]
  },
  {
   "cell_type": "markdown",
   "metadata": {},
   "source": [
    "# 4 MongoDB"
   ]
  },
  {
   "cell_type": "markdown",
   "metadata": {},
   "source": [
    "## Instructions and Example\n",
    "\n",
    "__You must follow and comply with the instructions for completing the questions in this section. Any deviation from the format is a score of 0.__\n",
    "\n",
    "1. The final exam folder has a subdirectory ```MongoDB``` that contains MongoDB collections dumped in JSON format.\n",
    "    - actors_imdb.json\n",
    "    - got_characters.json\n",
    "    - got_episodes.json\n",
    "    - imdb_titles.json\n",
    "    - title_ratings.json<br><br>\n",
    "2. Use MongoDB Compass:\n",
    "    - Create a MongoDB database F21_Final.\n",
    "    - Import the data from the files into collections. You can do this by using MongoDB Compass to create a collection, and then selecting the import data function.<br><br>\n",
    "3. You will implement your answers in functions in the file ```\n",
    "\n",
    "\n",
    "2. The sample returns a data frame of the form ```(seasonNum, episodeNum, sceneNum, characterName)``` for the characters that appeared in season one, episode one.\n"
   ]
  },
  {
   "cell_type": "code",
   "execution_count": 1,
   "metadata": {},
   "outputs": [],
   "source": [
    "import question_4_mongo"
   ]
  },
  {
   "cell_type": "code",
   "execution_count": 2,
   "metadata": {},
   "outputs": [
    {
     "data": {
      "text/html": [
       "<div>\n",
       "<style scoped>\n",
       "    .dataframe tbody tr th:only-of-type {\n",
       "        vertical-align: middle;\n",
       "    }\n",
       "\n",
       "    .dataframe tbody tr th {\n",
       "        vertical-align: top;\n",
       "    }\n",
       "\n",
       "    .dataframe thead th {\n",
       "        text-align: right;\n",
       "    }\n",
       "</style>\n",
       "<table border=\"1\" class=\"dataframe\">\n",
       "  <thead>\n",
       "    <tr style=\"text-align: right;\">\n",
       "      <th></th>\n",
       "      <th>seasonNum</th>\n",
       "      <th>episodeNum</th>\n",
       "      <th>sceneNum</th>\n",
       "      <th>characterName</th>\n",
       "    </tr>\n",
       "  </thead>\n",
       "  <tbody>\n",
       "    <tr>\n",
       "      <th>0</th>\n",
       "      <td>1</td>\n",
       "      <td>1</td>\n",
       "      <td>1</td>\n",
       "      <td>Gared</td>\n",
       "    </tr>\n",
       "    <tr>\n",
       "      <th>1</th>\n",
       "      <td>1</td>\n",
       "      <td>1</td>\n",
       "      <td>1</td>\n",
       "      <td>Waymar Royce</td>\n",
       "    </tr>\n",
       "    <tr>\n",
       "      <th>2</th>\n",
       "      <td>1</td>\n",
       "      <td>1</td>\n",
       "      <td>1</td>\n",
       "      <td>Will</td>\n",
       "    </tr>\n",
       "    <tr>\n",
       "      <th>3</th>\n",
       "      <td>1</td>\n",
       "      <td>1</td>\n",
       "      <td>2</td>\n",
       "      <td>Gared</td>\n",
       "    </tr>\n",
       "    <tr>\n",
       "      <th>4</th>\n",
       "      <td>1</td>\n",
       "      <td>1</td>\n",
       "      <td>2</td>\n",
       "      <td>Waymar Royce</td>\n",
       "    </tr>\n",
       "    <tr>\n",
       "      <th>...</th>\n",
       "      <td>...</td>\n",
       "      <td>...</td>\n",
       "      <td>...</td>\n",
       "      <td>...</td>\n",
       "    </tr>\n",
       "    <tr>\n",
       "      <th>148</th>\n",
       "      <td>1</td>\n",
       "      <td>1</td>\n",
       "      <td>35</td>\n",
       "      <td>Summer</td>\n",
       "    </tr>\n",
       "    <tr>\n",
       "      <th>149</th>\n",
       "      <td>1</td>\n",
       "      <td>1</td>\n",
       "      <td>36</td>\n",
       "      <td>Bran Stark</td>\n",
       "    </tr>\n",
       "    <tr>\n",
       "      <th>150</th>\n",
       "      <td>1</td>\n",
       "      <td>1</td>\n",
       "      <td>36</td>\n",
       "      <td>Summer</td>\n",
       "    </tr>\n",
       "    <tr>\n",
       "      <th>151</th>\n",
       "      <td>1</td>\n",
       "      <td>1</td>\n",
       "      <td>36</td>\n",
       "      <td>Jaime Lannister</td>\n",
       "    </tr>\n",
       "    <tr>\n",
       "      <th>152</th>\n",
       "      <td>1</td>\n",
       "      <td>1</td>\n",
       "      <td>36</td>\n",
       "      <td>Cersei Lannister</td>\n",
       "    </tr>\n",
       "  </tbody>\n",
       "</table>\n",
       "<p>153 rows × 4 columns</p>\n",
       "</div>"
      ],
      "text/plain": [
       "     seasonNum  episodeNum  sceneNum     characterName\n",
       "0            1           1         1             Gared\n",
       "1            1           1         1      Waymar Royce\n",
       "2            1           1         1              Will\n",
       "3            1           1         2             Gared\n",
       "4            1           1         2      Waymar Royce\n",
       "..         ...         ...       ...               ...\n",
       "148          1           1        35            Summer\n",
       "149          1           1        36        Bran Stark\n",
       "150          1           1        36            Summer\n",
       "151          1           1        36   Jaime Lannister\n",
       "152          1           1        36  Cersei Lannister\n",
       "\n",
       "[153 rows x 4 columns]"
      ]
     },
     "execution_count": 2,
     "metadata": {},
     "output_type": "execute_result"
    }
   ],
   "source": [
    "result = question_4_mongo.question_4_example()\n",
    "result"
   ]
  },
  {
   "cell_type": "markdown",
   "metadata": {},
   "source": [
    "## 4.1 Implementing a JOIN (2 points)"
   ]
  },
  {
   "cell_type": "markdown",
   "metadata": {},
   "source": [
    "__Question__\n",
    "\n",
    "1. You will need to implement an aggregation for this problem. You can use MongoDB Compass to produce and test the aggregation, and then copy into the implementation template.<br><br>\n",
    "2. The aggregation operator ```$lookup``` implements a join-like function for MongoDB.<br><br>\n",
    "3. The aggregation operator (in a project) for getting substrings is ```$substr```.<br><br>\n",
    "3. Write a query that joins episodes and ratings and produces a list of documents of the form:\n",
    "    - ```seasonNum, episodeNum, episodeTitle, episodeDescription, episodeDate``` from ```got_episodes.```\n",
    "    - ```tconst, averageRating, numVotes``` from title ratings."
   ]
  },
  {
   "cell_type": "markdown",
   "metadata": {},
   "source": [
    "__Answer__"
   ]
  },
  {
   "cell_type": "code",
   "execution_count": 3,
   "metadata": {},
   "outputs": [
    {
     "data": {
      "text/html": [
       "<div>\n",
       "<style scoped>\n",
       "    .dataframe tbody tr th:only-of-type {\n",
       "        vertical-align: middle;\n",
       "    }\n",
       "\n",
       "    .dataframe tbody tr th {\n",
       "        vertical-align: top;\n",
       "    }\n",
       "\n",
       "    .dataframe thead th {\n",
       "        text-align: right;\n",
       "    }\n",
       "</style>\n",
       "<table border=\"1\" class=\"dataframe\">\n",
       "  <thead>\n",
       "    <tr style=\"text-align: right;\">\n",
       "      <th></th>\n",
       "      <th>seasonNum</th>\n",
       "      <th>episodeNum</th>\n",
       "      <th>episodeTitle</th>\n",
       "      <th>episodeAirDate</th>\n",
       "      <th>episodeDescription</th>\n",
       "      <th>tconst</th>\n",
       "      <th>averageRating</th>\n",
       "      <th>numVotes</th>\n",
       "    </tr>\n",
       "  </thead>\n",
       "  <tbody>\n",
       "    <tr>\n",
       "      <th>0</th>\n",
       "      <td>1</td>\n",
       "      <td>1</td>\n",
       "      <td>Winter Is Coming</td>\n",
       "      <td>2011-04-17</td>\n",
       "      <td>Jon Arryn, the Hand of the King, is dead. King...</td>\n",
       "      <td>tt1480055</td>\n",
       "      <td>9.1</td>\n",
       "      <td>44596</td>\n",
       "    </tr>\n",
       "    <tr>\n",
       "      <th>1</th>\n",
       "      <td>1</td>\n",
       "      <td>2</td>\n",
       "      <td>The Kingsroad</td>\n",
       "      <td>2011-04-24</td>\n",
       "      <td>While Bran recovers from his fall, Ned takes o...</td>\n",
       "      <td>tt1668746</td>\n",
       "      <td>8.8</td>\n",
       "      <td>33936</td>\n",
       "    </tr>\n",
       "    <tr>\n",
       "      <th>2</th>\n",
       "      <td>1</td>\n",
       "      <td>3</td>\n",
       "      <td>Lord Snow</td>\n",
       "      <td>2011-05-01</td>\n",
       "      <td>Lord Stark and his daughters arrive at King's ...</td>\n",
       "      <td>tt1829962</td>\n",
       "      <td>8.7</td>\n",
       "      <td>32139</td>\n",
       "    </tr>\n",
       "    <tr>\n",
       "      <th>3</th>\n",
       "      <td>1</td>\n",
       "      <td>4</td>\n",
       "      <td>Cripples, Bastards, and Broken Things</td>\n",
       "      <td>2011-05-08</td>\n",
       "      <td>Eddard investigates Jon Arryn's murder. Jon be...</td>\n",
       "      <td>tt1829963</td>\n",
       "      <td>8.8</td>\n",
       "      <td>30562</td>\n",
       "    </tr>\n",
       "    <tr>\n",
       "      <th>4</th>\n",
       "      <td>1</td>\n",
       "      <td>5</td>\n",
       "      <td>The Wolf and the Lion</td>\n",
       "      <td>2011-05-15</td>\n",
       "      <td>Catelyn has captured Tyrion and plans to bring...</td>\n",
       "      <td>tt1829964</td>\n",
       "      <td>9.1</td>\n",
       "      <td>31777</td>\n",
       "    </tr>\n",
       "    <tr>\n",
       "      <th>...</th>\n",
       "      <td>...</td>\n",
       "      <td>...</td>\n",
       "      <td>...</td>\n",
       "      <td>...</td>\n",
       "      <td>...</td>\n",
       "      <td>...</td>\n",
       "      <td>...</td>\n",
       "      <td>...</td>\n",
       "    </tr>\n",
       "    <tr>\n",
       "      <th>68</th>\n",
       "      <td>8</td>\n",
       "      <td>2</td>\n",
       "      <td>A Knight of the Seven Kingdoms</td>\n",
       "      <td>2019-04-21</td>\n",
       "      <td>The battle at Winterfell is approaching. Jaime...</td>\n",
       "      <td>tt6027908</td>\n",
       "      <td>7.8</td>\n",
       "      <td>126920</td>\n",
       "    </tr>\n",
       "    <tr>\n",
       "      <th>69</th>\n",
       "      <td>8</td>\n",
       "      <td>3</td>\n",
       "      <td>The Long Night</td>\n",
       "      <td>2019-04-28</td>\n",
       "      <td>The Night King and his army have arrived at Wi...</td>\n",
       "      <td>tt6027912</td>\n",
       "      <td>7.4</td>\n",
       "      <td>210187</td>\n",
       "    </tr>\n",
       "    <tr>\n",
       "      <th>70</th>\n",
       "      <td>8</td>\n",
       "      <td>4</td>\n",
       "      <td>The Last of the Starks</td>\n",
       "      <td>2019-05-05</td>\n",
       "      <td>In the wake of a costly victory, Jon and Daene...</td>\n",
       "      <td>tt6027914</td>\n",
       "      <td>5.4</td>\n",
       "      <td>160721</td>\n",
       "    </tr>\n",
       "    <tr>\n",
       "      <th>71</th>\n",
       "      <td>8</td>\n",
       "      <td>5</td>\n",
       "      <td>The Bells</td>\n",
       "      <td>2019-05-12</td>\n",
       "      <td>Daenerys and Cersei weigh their options as an ...</td>\n",
       "      <td>tt6027916</td>\n",
       "      <td>5.9</td>\n",
       "      <td>187221</td>\n",
       "    </tr>\n",
       "    <tr>\n",
       "      <th>72</th>\n",
       "      <td>8</td>\n",
       "      <td>6</td>\n",
       "      <td>The Iron Throne</td>\n",
       "      <td>2019-05-19</td>\n",
       "      <td>In the aftermath of the devastating attack on ...</td>\n",
       "      <td>tt6027920</td>\n",
       "      <td>4</td>\n",
       "      <td>238095</td>\n",
       "    </tr>\n",
       "  </tbody>\n",
       "</table>\n",
       "<p>73 rows × 8 columns</p>\n",
       "</div>"
      ],
      "text/plain": [
       "    seasonNum  episodeNum                           episodeTitle  \\\n",
       "0           1           1                       Winter Is Coming   \n",
       "1           1           2                          The Kingsroad   \n",
       "2           1           3                              Lord Snow   \n",
       "3           1           4  Cripples, Bastards, and Broken Things   \n",
       "4           1           5                  The Wolf and the Lion   \n",
       "..        ...         ...                                    ...   \n",
       "68          8           2         A Knight of the Seven Kingdoms   \n",
       "69          8           3                         The Long Night   \n",
       "70          8           4                 The Last of the Starks   \n",
       "71          8           5                              The Bells   \n",
       "72          8           6                        The Iron Throne   \n",
       "\n",
       "   episodeAirDate                                 episodeDescription  \\\n",
       "0      2011-04-17  Jon Arryn, the Hand of the King, is dead. King...   \n",
       "1      2011-04-24  While Bran recovers from his fall, Ned takes o...   \n",
       "2      2011-05-01  Lord Stark and his daughters arrive at King's ...   \n",
       "3      2011-05-08  Eddard investigates Jon Arryn's murder. Jon be...   \n",
       "4      2011-05-15  Catelyn has captured Tyrion and plans to bring...   \n",
       "..            ...                                                ...   \n",
       "68     2019-04-21  The battle at Winterfell is approaching. Jaime...   \n",
       "69     2019-04-28  The Night King and his army have arrived at Wi...   \n",
       "70     2019-05-05  In the wake of a costly victory, Jon and Daene...   \n",
       "71     2019-05-12  Daenerys and Cersei weigh their options as an ...   \n",
       "72     2019-05-19  In the aftermath of the devastating attack on ...   \n",
       "\n",
       "       tconst averageRating numVotes  \n",
       "0   tt1480055           9.1    44596  \n",
       "1   tt1668746           8.8    33936  \n",
       "2   tt1829962           8.7    32139  \n",
       "3   tt1829963           8.8    30562  \n",
       "4   tt1829964           9.1    31777  \n",
       "..        ...           ...      ...  \n",
       "68  tt6027908           7.8   126920  \n",
       "69  tt6027912           7.4   210187  \n",
       "70  tt6027914           5.4   160721  \n",
       "71  tt6027916           5.9   187221  \n",
       "72  tt6027920             4   238095  \n",
       "\n",
       "[73 rows x 8 columns]"
      ]
     },
     "execution_count": 3,
     "metadata": {},
     "output_type": "execute_result"
    }
   ],
   "source": [
    "#\n",
    "# Run your test here.\n",
    "#\n",
    "result = question_4_mongo.question_4_ratings()\n",
    "result"
   ]
  },
  {
   "cell_type": "markdown",
   "metadata": {},
   "source": [
    "## 4.2 Just Kidding"
   ]
  },
  {
   "cell_type": "markdown",
   "metadata": {},
   "source": [
    "- We did not spend a lot of time on MongoDB and that previous query was not fun.\n",
    "\n",
    "\n",
    "- So, 4.1 is actually with 5 points and you are done with MongoDB. For now."
   ]
  },
  {
   "cell_type": "markdown",
   "metadata": {},
   "source": [
    "# 5 Neo4j"
   ]
  },
  {
   "cell_type": "markdown",
   "metadata": {},
   "source": [
    "## Instructions and Example\n",
    "\n",
    "__You must follow and comply with the instructions for completing the questions in this section. Any deviation from the format is a score of 0.__\n",
    "\n",
    "1. You will use the Movie Graph for this question.<br><br>\n",
    "2. Implement the answers in functions in the Python file\n",
    "\n",
    "The example function returns a table with information about which people directed Tom hanks in which movies."
   ]
  },
  {
   "cell_type": "code",
   "execution_count": 1,
   "metadata": {},
   "outputs": [],
   "source": [
    "import question_5_neo4j"
   ]
  },
  {
   "cell_type": "code",
   "execution_count": 2,
   "metadata": {},
   "outputs": [
    {
     "data": {
      "text/html": [
       "<div>\n",
       "<style scoped>\n",
       "    .dataframe tbody tr th:only-of-type {\n",
       "        vertical-align: middle;\n",
       "    }\n",
       "\n",
       "    .dataframe tbody tr th {\n",
       "        vertical-align: top;\n",
       "    }\n",
       "\n",
       "    .dataframe thead th {\n",
       "        text-align: right;\n",
       "    }\n",
       "</style>\n",
       "<table border=\"1\" class=\"dataframe\">\n",
       "  <thead>\n",
       "    <tr style=\"text-align: right;\">\n",
       "      <th></th>\n",
       "      <th>0</th>\n",
       "      <th>1</th>\n",
       "      <th>2</th>\n",
       "    </tr>\n",
       "  </thead>\n",
       "  <tbody>\n",
       "    <tr>\n",
       "      <th>0</th>\n",
       "      <td>Tom Hanks</td>\n",
       "      <td>You've Got Mail</td>\n",
       "      <td>Nora Ephron</td>\n",
       "    </tr>\n",
       "    <tr>\n",
       "      <th>1</th>\n",
       "      <td>Tom Hanks</td>\n",
       "      <td>Sleepless in Seattle</td>\n",
       "      <td>Nora Ephron</td>\n",
       "    </tr>\n",
       "    <tr>\n",
       "      <th>2</th>\n",
       "      <td>Tom Hanks</td>\n",
       "      <td>Joe Versus the Volcano</td>\n",
       "      <td>John Patrick Stanley</td>\n",
       "    </tr>\n",
       "    <tr>\n",
       "      <th>3</th>\n",
       "      <td>Tom Hanks</td>\n",
       "      <td>That Thing You Do</td>\n",
       "      <td>Tom Hanks</td>\n",
       "    </tr>\n",
       "    <tr>\n",
       "      <th>4</th>\n",
       "      <td>Tom Hanks</td>\n",
       "      <td>Cloud Atlas</td>\n",
       "      <td>Tom Tykwer</td>\n",
       "    </tr>\n",
       "    <tr>\n",
       "      <th>5</th>\n",
       "      <td>Tom Hanks</td>\n",
       "      <td>Cloud Atlas</td>\n",
       "      <td>Lilly Wachowski</td>\n",
       "    </tr>\n",
       "    <tr>\n",
       "      <th>6</th>\n",
       "      <td>Tom Hanks</td>\n",
       "      <td>Cloud Atlas</td>\n",
       "      <td>Lana Wachowski</td>\n",
       "    </tr>\n",
       "    <tr>\n",
       "      <th>7</th>\n",
       "      <td>Tom Hanks</td>\n",
       "      <td>The Da Vinci Code</td>\n",
       "      <td>Ron Howard</td>\n",
       "    </tr>\n",
       "    <tr>\n",
       "      <th>8</th>\n",
       "      <td>Tom Hanks</td>\n",
       "      <td>The Green Mile</td>\n",
       "      <td>Frank Darabont</td>\n",
       "    </tr>\n",
       "    <tr>\n",
       "      <th>9</th>\n",
       "      <td>Tom Hanks</td>\n",
       "      <td>Apollo 13</td>\n",
       "      <td>Ron Howard</td>\n",
       "    </tr>\n",
       "    <tr>\n",
       "      <th>10</th>\n",
       "      <td>Tom Hanks</td>\n",
       "      <td>Cast Away</td>\n",
       "      <td>Robert Zemeckis</td>\n",
       "    </tr>\n",
       "    <tr>\n",
       "      <th>11</th>\n",
       "      <td>Tom Hanks</td>\n",
       "      <td>Charlie Wilson's War</td>\n",
       "      <td>Mike Nichols</td>\n",
       "    </tr>\n",
       "    <tr>\n",
       "      <th>12</th>\n",
       "      <td>Tom Hanks</td>\n",
       "      <td>The Polar Express</td>\n",
       "      <td>Robert Zemeckis</td>\n",
       "    </tr>\n",
       "    <tr>\n",
       "      <th>13</th>\n",
       "      <td>Tom Hanks</td>\n",
       "      <td>A League of Their Own</td>\n",
       "      <td>Penny Marshall</td>\n",
       "    </tr>\n",
       "  </tbody>\n",
       "</table>\n",
       "</div>"
      ],
      "text/plain": [
       "            0                       1                     2\n",
       "0   Tom Hanks         You've Got Mail           Nora Ephron\n",
       "1   Tom Hanks    Sleepless in Seattle           Nora Ephron\n",
       "2   Tom Hanks  Joe Versus the Volcano  John Patrick Stanley\n",
       "3   Tom Hanks       That Thing You Do             Tom Hanks\n",
       "4   Tom Hanks             Cloud Atlas            Tom Tykwer\n",
       "5   Tom Hanks             Cloud Atlas       Lilly Wachowski\n",
       "6   Tom Hanks             Cloud Atlas        Lana Wachowski\n",
       "7   Tom Hanks       The Da Vinci Code            Ron Howard\n",
       "8   Tom Hanks          The Green Mile        Frank Darabont\n",
       "9   Tom Hanks               Apollo 13            Ron Howard\n",
       "10  Tom Hanks               Cast Away       Robert Zemeckis\n",
       "11  Tom Hanks    Charlie Wilson's War          Mike Nichols\n",
       "12  Tom Hanks       The Polar Express       Robert Zemeckis\n",
       "13  Tom Hanks   A League of Their Own        Penny Marshall"
      ]
     },
     "execution_count": 2,
     "metadata": {},
     "output_type": "execute_result"
    }
   ],
   "source": [
    "result = question_5_neo4j.directed_tom_hanks()\n",
    "result"
   ]
  },
  {
   "cell_type": "markdown",
   "metadata": {},
   "source": [
    "## 5.1 People  Who Directed Themseves (2 points)"
   ]
  },
  {
   "cell_type": "markdown",
   "metadata": {},
   "source": [
    "__Question__\n",
    "\n",
    "- Implement the function ```people_who_directed_themselves.```\n",
    "\n",
    "\n",
    "- The format of the answer is a data frame of the form ```(name, title, name)``` where the person ```ACTED_IN``` and ```DRECTED``` the movie.\n"
   ]
  },
  {
   "cell_type": "markdown",
   "metadata": {},
   "source": [
    "__Answer__"
   ]
  },
  {
   "cell_type": "code",
   "execution_count": 3,
   "metadata": {},
   "outputs": [
    {
     "data": {
      "text/html": [
       "<div>\n",
       "<style scoped>\n",
       "    .dataframe tbody tr th:only-of-type {\n",
       "        vertical-align: middle;\n",
       "    }\n",
       "\n",
       "    .dataframe tbody tr th {\n",
       "        vertical-align: top;\n",
       "    }\n",
       "\n",
       "    .dataframe thead th {\n",
       "        text-align: right;\n",
       "    }\n",
       "</style>\n",
       "<table border=\"1\" class=\"dataframe\">\n",
       "  <thead>\n",
       "    <tr style=\"text-align: right;\">\n",
       "      <th></th>\n",
       "      <th>name_1</th>\n",
       "      <th>title</th>\n",
       "      <th>name_2</th>\n",
       "    </tr>\n",
       "  </thead>\n",
       "  <tbody>\n",
       "    <tr>\n",
       "      <th>0</th>\n",
       "      <td>Tom Hanks</td>\n",
       "      <td>That Thing You Do</td>\n",
       "      <td>Tom Hanks</td>\n",
       "    </tr>\n",
       "    <tr>\n",
       "      <th>1</th>\n",
       "      <td>Clint Eastwood</td>\n",
       "      <td>Unforgiven</td>\n",
       "      <td>Clint Eastwood</td>\n",
       "    </tr>\n",
       "    <tr>\n",
       "      <th>2</th>\n",
       "      <td>Danny DeVito</td>\n",
       "      <td>Hoffa</td>\n",
       "      <td>Danny DeVito</td>\n",
       "    </tr>\n",
       "  </tbody>\n",
       "</table>\n",
       "</div>"
      ],
      "text/plain": [
       "           name_1              title          name_2\n",
       "0       Tom Hanks  That Thing You Do       Tom Hanks\n",
       "1  Clint Eastwood         Unforgiven  Clint Eastwood\n",
       "2    Danny DeVito              Hoffa    Danny DeVito"
      ]
     },
     "execution_count": 3,
     "metadata": {},
     "output_type": "execute_result"
    }
   ],
   "source": [
    "#\n",
    "# Test you answer\n",
    "#\n",
    "result = question_5_neo4j.directed_themselves()\n",
    "result"
   ]
  },
  {
   "cell_type": "markdown",
   "metadata": {},
   "source": [
    "## 5.2 People Who Reviewed the same Movie (3 points)"
   ]
  },
  {
   "cell_type": "markdown",
   "metadata": {},
   "source": [
    "__Question__\n",
    "\n",
    "- Implement the function ```both_reviewed(person_1_name, person_2_name)```\n",
    "\n",
    "- The function returns a data frame of the form ```person_1_name, movie_title, person_2_name``` if the two people with the names rviewed the movie.\n",
    "\n",
    "- Test you answer with the names below. You cannot hard code names in your query."
   ]
  },
  {
   "cell_type": "markdown",
   "metadata": {},
   "source": [
    "__Answer__"
   ]
  },
  {
   "cell_type": "code",
   "execution_count": 4,
   "metadata": {},
   "outputs": [
    {
     "data": {
      "text/html": [
       "<div>\n",
       "<style scoped>\n",
       "    .dataframe tbody tr th:only-of-type {\n",
       "        vertical-align: middle;\n",
       "    }\n",
       "\n",
       "    .dataframe tbody tr th {\n",
       "        vertical-align: top;\n",
       "    }\n",
       "\n",
       "    .dataframe thead th {\n",
       "        text-align: right;\n",
       "    }\n",
       "</style>\n",
       "<table border=\"1\" class=\"dataframe\">\n",
       "  <thead>\n",
       "    <tr style=\"text-align: right;\">\n",
       "      <th></th>\n",
       "      <th>name_1</th>\n",
       "      <th>title</th>\n",
       "      <th>name_2</th>\n",
       "    </tr>\n",
       "  </thead>\n",
       "  <tbody>\n",
       "    <tr>\n",
       "      <th>0</th>\n",
       "      <td>James Thompson</td>\n",
       "      <td>The Replacements</td>\n",
       "      <td>Jessica Thompson</td>\n",
       "    </tr>\n",
       "    <tr>\n",
       "      <th>1</th>\n",
       "      <td>James Thompson</td>\n",
       "      <td>The Da Vinci Code</td>\n",
       "      <td>Jessica Thompson</td>\n",
       "    </tr>\n",
       "  </tbody>\n",
       "</table>\n",
       "</div>"
      ],
      "text/plain": [
       "           name_1              title            name_2\n",
       "0  James Thompson   The Replacements  Jessica Thompson\n",
       "1  James Thompson  The Da Vinci Code  Jessica Thompson"
      ]
     },
     "execution_count": 4,
     "metadata": {},
     "output_type": "execute_result"
    }
   ],
   "source": [
    "#\n",
    "result = question_5_neo4j.both_reviewed('James Thompson', 'Jessica Thompson')\n",
    "result"
   ]
  },
  {
   "cell_type": "markdown",
   "metadata": {},
   "source": [
    "# 6 Data Modeling $-$ RACI"
   ]
  },
  {
   "cell_type": "markdown",
   "metadata": {},
   "source": [
    "__Question__\n",
    "\n",
    "\n",
    "- [RACI](https://www.softwareadvice.com/resources/what-is-a-raci-chart/) is an acronym for an approach to defining the relationships between people/stakeholders and a project.\n",
    "\n",
    "\n",
    "- For this question, you will:\n",
    "    - Do a Crow's Foot ER diagram defining a data model for representing RACI.\n",
    "    - Create a SQL schema to represent the tables, constraints, etc. that you determine are necessary.\n",
    "    \n",
    "    \n",
    "- The core entity types are:\n",
    "    - ```Project(project_id, project_name, start_date, end_date)```\n",
    "    - ```Person(UNI, last_name, first_name, email)```\n",
    "    \n",
    "\n",
    "- Implementing RACI is about understanding relationships between people and projects. The table below explains the concept.\n",
    "\n",
    "\n",
    "| Role        | Description                                                                                                                                                  | \n",
    "|-------------|--------------------------------------------------------------------------------------------------------------------------------------------------------------| \n",
    "| Responsible | Who is responsible for doing the actual work for the project task.                                                                                           | \n",
    "| Accountable | Who is accountable for the success of the task and is the decision-maker. Typically the project manager.*                                                    | \n",
    "| Consulted   | Who needs to be consulted for details and additional info on requirements. Typically the person (or team) to be consulted will be the subject matter expert. | \n",
    "| Informed    | Who needs to be kept informed of major updates. Typically senior leadership.                                                                                 | \n",
    "\n",
    "- There are two constraints:\n",
    "    - There is exactly one person who is Accountable for a project.\n",
    "    - A specific person can have at most one relationship to a project, for example \"Bob\" cannot be both Consulted and Informed for the same project.\n",
    "    \n",
    "\n",
    "- To answer this question, you must:\n",
    "    - Draw the Crow's Foot ER diagram using LucidChart.\n",
    "    - Create a database schema implementing the data model you define.\n",
    "    \n",
    "    \n",
    "- You do not need to populate the data model with data or query the data, but YOU MUST execute your DDL statements.\n",
    "\n",
    "\n",
    "- You execute the DDL statements implementing functions in the file ```question_6_schema.```\n",
    "\n",
    "\n",
    "- You may use DataGrip or other tools to design the schema and test your statements, but for the final answer you most have one function in ```question_6_schema``` for each DDL statement and you must execute each function in a cell below.\n",
    "\n",
    "\n",
    "- Name your database schema ```RACI.```\n",
    "\n",
    "\n",
    "- There is no single, correct answer. Document any assumptions or design decisions that you make."
   ]
  },
  {
   "cell_type": "markdown",
   "metadata": {},
   "source": [
    "__Design Decisions and Assumptions__\n",
    "\n",
    "Document any design decisions or assumptions that you make.\n",
    "\n",
    "- The Person table should choose UNI as the primary key and the Project table should choose project_id as the primary key.\n",
    "\n",
    "\n",
    "- I add a column called account_person in the Project table as a foreign key referencing the UNI column in the Person table. A Person can be accountable for many projects but a Project can have exactly one person to be accountable.  \n",
    "\n",
    "\n",
    "- I add a table Role with project_id and UNI as both primary key and foreign key referencing to the Person table and the Project table, and add a column type to represent the role of the person in the range of [Responsible, Consulted, Informed]. The uniqueness of primary key ensures that a project cannot have one person to take multiple roles. A role is associated with exactly one person and one project, but a person can have multiple roles in different projects and a project can have multiple roles assigned to different people.\n",
    "\n",
    "\n",
    "- Also, to ensure that a person cannot take multiple roles including Accountable, I will set a trigger to abort the operation that tries to set the same person to take one of the roles as well as accountable of a project."
   ]
  },
  {
   "cell_type": "markdown",
   "metadata": {},
   "source": [
    "__ER Diagram__\n",
    "\n",
    "- Put your ER diagram here. You will receive instructions for how to submit on GradeScope."
   ]
  },
  {
   "cell_type": "markdown",
   "metadata": {},
   "source": [
    "![image.png](./6.jpeg)"
   ]
  },
  {
   "cell_type": "markdown",
   "metadata": {},
   "source": [
    "__Schema Creation__"
   ]
  },
  {
   "cell_type": "code",
   "execution_count": 1,
   "metadata": {},
   "outputs": [],
   "source": [
    "#\n",
    "#\n",
    "import question_6_schema"
   ]
  },
  {
   "cell_type": "code",
   "execution_count": 2,
   "metadata": {},
   "outputs": [
    {
     "name": "stdout",
     "output_type": "stream",
     "text": [
      "DDL statement:\n",
      "\n",
      "    create table RACI.Person\n",
      "    (\n",
      "        UNI varchar(6) not null,\n",
      "        last_name varchar(128) null,\n",
      "        first_name varchar(128) null,\n",
      "        email varchar(128) null,\n",
      "        constraint Person_pk\n",
      "            primary key (UNI)\n",
      "    );\n",
      "    \n",
      "\n"
     ]
    },
    {
     "data": {
      "text/plain": [
       "0"
      ]
     },
     "execution_count": 2,
     "metadata": {},
     "output_type": "execute_result"
    }
   ],
   "source": [
    "#\n",
    "# Execute each function in a single cell.\n",
    "#\n",
    "res = question_6_schema.schema_operation_1()\n",
    "res"
   ]
  },
  {
   "cell_type": "code",
   "execution_count": 3,
   "metadata": {},
   "outputs": [
    {
     "name": "stdout",
     "output_type": "stream",
     "text": [
      "DDL statement:\n",
      "\n",
      "    create table RACI.Project\n",
      "    (\n",
      "        project_id varchar(128) not null,\n",
      "        project_name varchar(128) null,\n",
      "        start_date date null,\n",
      "        end_date date null,\n",
      "        account_person varchar(6) null,\n",
      "        constraint Project_pk\n",
      "            primary key (project_id),\n",
      "        constraint Project_Person_UNI_fk\n",
      "            foreign key (account_person) references Person (UNI)\n",
      "    );\n",
      "    \n",
      "\n"
     ]
    },
    {
     "data": {
      "text/plain": [
       "0"
      ]
     },
     "execution_count": 3,
     "metadata": {},
     "output_type": "execute_result"
    }
   ],
   "source": [
    "#\n",
    "# Execute each function in a single cell.\n",
    "#\n",
    "res = question_6_schema.schema_operation_2()\n",
    "res"
   ]
  },
  {
   "cell_type": "code",
   "execution_count": 4,
   "metadata": {},
   "outputs": [
    {
     "name": "stdout",
     "output_type": "stream",
     "text": [
      "DDL statement:\n",
      "\n",
      "    create table RACI.Role\n",
      "    (\n",
      "        project_id varchar(128) not null,\n",
      "        UNI varchar(6) not null,\n",
      "        type varchar(16) null,\n",
      "        constraint Role_pk\n",
      "            primary key (UNI, project_id),\n",
      "        constraint Role_Person_UNI_fk\n",
      "            foreign key (UNI) references Person (UNI),\n",
      "        constraint Role_Project_project_id_fk\n",
      "            foreign key (project_id) references Project (project_id)\n",
      "    );\n",
      "    \n",
      "\n"
     ]
    },
    {
     "data": {
      "text/plain": [
       "0"
      ]
     },
     "execution_count": 4,
     "metadata": {},
     "output_type": "execute_result"
    }
   ],
   "source": [
    "#\n",
    "# Execute each function in a single cell.\n",
    "#\n",
    "res = question_6_schema.schema_operation_3()\n",
    "res"
   ]
  },
  {
   "cell_type": "markdown",
   "metadata": {},
   "source": [
    "# 7. Data Transformation"
   ]
  },
  {
   "cell_type": "markdown",
   "metadata": {},
   "source": [
    "## Question"
   ]
  },
  {
   "cell_type": "markdown",
   "metadata": {},
   "source": [
    "- In this question, you will produce a star schema and populate with data from ```classicmodels.```\n",
    "\n",
    "\n",
    "- A star schema has a fact table and dimensions. The core fact is:\n",
    "    - A customer (```customerNumber```)\n",
    "    - Some quantity of a product (```quantityOrdered```) at at a price (```priceEach```)\n",
    "    - On a given date (```orderDate```)\n",
    "    \n",
    "    \n",
    "- We will consider three dimensions:\n",
    "    - ```date``` is ```(month, quarter, year)```\n",
    "    - ```location``` is the dimension representing where the customer is and is of the form ```(city, country, region).``` Region is one of ```(EMEA, NA, AP).```\n",
    "        - ```USA``` and ```Canada``` are in ```NA.```\n",
    "        - ```Philipines, Hong Kong, Singapore, Japan, Australia``` and ```New Zealand``` are in ```AP```\n",
    "        - All other countries are in ```EMEA.```\n",
    "    - ```product_type``` is ```(scale, product line).```\n",
    "    \n",
    "    \n",
    "- You will follow the same approach for implementation as for question 6. \n",
    "\n",
    "\n",
    "- There is an implementation template ```question_7_sql.``` You will implement three sets of SQL operations.\n",
    "    - The functions of the form ```schema_operation_n()``` implement creating the star schema, tables, constraints, etc. There is one function for each statement. Name your schema ```classicmodels_star```\n",
    "    - The functions ```data_transformation_n()``` contain SQL statements for loading the ```classicmodels_star``` schema. You can have at most 3 SQL statement per function.\n",
    "    - There are three queries you must implement:\n",
    "        - ```sales_by_year_region()``` returns the total value of orders broken down by region and year.\n",
    "        - ```sales_by_quarter_year_county_region()``` drills down to show the same information expanded to include quarter and year.\n",
    "        - ```sales_by_product_line_scale_year()``` shows sales by product line, product scale and year."
   ]
  },
  {
   "cell_type": "markdown",
   "metadata": {},
   "source": [
    "__Answer__\n",
    "\n",
    "In the following cells, execute your various functions that invoke SQL."
   ]
  },
  {
   "cell_type": "markdown",
   "metadata": {},
   "source": [
    "![image.png](./7.png)"
   ]
  },
  {
   "cell_type": "markdown",
   "metadata": {},
   "source": [
    "__Design Decisions:__<br>\n",
    "Since there is no primary key specified in the Fact table, so I cannot add foreign key constraints in the actual ddl statement. I just include the above ER diagram to show the foreign key."
   ]
  },
  {
   "cell_type": "code",
   "execution_count": 1,
   "metadata": {},
   "outputs": [],
   "source": [
    "import question_7_sql"
   ]
  },
  {
   "cell_type": "code",
   "execution_count": 2,
   "metadata": {},
   "outputs": [
    {
     "name": "stdout",
     "output_type": "stream",
     "text": [
      "DDL statement:\n",
      "\n",
      "    create table classicmodels_star.date_dimension\n",
      "    (\n",
      "        orderDate date not null,\n",
      "        month int null,\n",
      "        quarter int null,\n",
      "        year int null,\n",
      "        constraint date_dimension_pk\n",
      "            primary key (orderDate)\n",
      "    );\n",
      "    \n",
      "\n"
     ]
    },
    {
     "data": {
      "text/plain": [
       "0"
      ]
     },
     "execution_count": 2,
     "metadata": {},
     "output_type": "execute_result"
    }
   ],
   "source": [
    "res = question_7_sql.schema_operation_1()\n",
    "res"
   ]
  },
  {
   "cell_type": "code",
   "execution_count": 3,
   "metadata": {},
   "outputs": [
    {
     "name": "stdout",
     "output_type": "stream",
     "text": [
      "DDL statement:\n",
      "\n",
      "    create table classicmodels_star.location_dimension\n",
      "    (\n",
      "        customerNumber int not null,\n",
      "        city varchar(50) null,\n",
      "        country varchar(50) null,\n",
      "        region varchar(4) null,\n",
      "        constraint location_dimension_pk\n",
      "            primary key (customerNumber)\n",
      "    );\n",
      "    \n",
      "\n"
     ]
    },
    {
     "data": {
      "text/plain": [
       "0"
      ]
     },
     "execution_count": 3,
     "metadata": {},
     "output_type": "execute_result"
    }
   ],
   "source": [
    "res = question_7_sql.schema_operation_2()\n",
    "res"
   ]
  },
  {
   "cell_type": "code",
   "execution_count": 4,
   "metadata": {},
   "outputs": [
    {
     "name": "stdout",
     "output_type": "stream",
     "text": [
      "DDL statement:\n",
      "\n",
      "    create table classicmodels_star.product_dimension\n",
      "    (\n",
      "        productCode varchar(15) not null,\n",
      "        productScale varchar(10) null,\n",
      "        productLine varchar(50) null,\n",
      "        constraint product_dimension_pk\n",
      "            primary key (productCode)\n",
      "    );\n",
      "    \n",
      "\n"
     ]
    },
    {
     "data": {
      "text/plain": [
       "0"
      ]
     },
     "execution_count": 4,
     "metadata": {},
     "output_type": "execute_result"
    }
   ],
   "source": [
    "res = question_7_sql.schema_operation_3()\n",
    "res"
   ]
  },
  {
   "cell_type": "code",
   "execution_count": 5,
   "metadata": {},
   "outputs": [
    {
     "name": "stdout",
     "output_type": "stream",
     "text": [
      "DDL statement:\n",
      "\n",
      "    create table classicmodels_star.fact\n",
      "    (\n",
      "        customerNumber int not null,\n",
      "        productCode varchar(15) not null,\n",
      "        orderDate date not null,\n",
      "        quantityOrdered int null,\n",
      "        priceEach decimal(10,2) null,\n",
      "        constraint fact_pk\n",
      "            primary key (customerNumber, productCode, orderDate),\n",
      "        constraint fact_location_dimension_fk\n",
      "            foreign key (customerNumber) references location_dimension (customerNumber),\n",
      "        constraint fact_product_dimension_fk\n",
      "            foreign key (productCode) references product_dimension (productCode),\n",
      "        constraint fact_date_dimension_fk\n",
      "            foreign key (orderDate) references date_dimension (orderDate)\n",
      "    );\n",
      "    \n",
      "\n"
     ]
    },
    {
     "data": {
      "text/plain": [
       "0"
      ]
     },
     "execution_count": 5,
     "metadata": {},
     "output_type": "execute_result"
    }
   ],
   "source": [
    "res = question_7_sql.schema_operation_4()\n",
    "res"
   ]
  },
  {
   "cell_type": "code",
   "execution_count": 6,
   "metadata": {},
   "outputs": [
    {
     "name": "stdout",
     "output_type": "stream",
     "text": [
      "Data Transformation for table date_dimension:\n",
      "\n",
      "    insert into classicmodels_star.date_dimension\n",
      "    select distinct orderDate, month(orderDate),\n",
      "            quarter(orderDate), year(orderDate)\n",
      "    from classicmodels.orders\n",
      "    \n",
      "\n",
      "Data Transformation for table location_dimension:\n",
      "\n",
      "    insert into classicmodels_star.location_dimension\n",
      "    select customerNumber, city, country,\n",
      "    case country \n",
      "            when 'USA' then 'NA'\n",
      "            when 'Canada' then 'NA'\n",
      "            when 'Philippines' then 'AP'\n",
      "            when 'Hong Kong' then 'AP'\n",
      "            when 'Singapore' then 'AP'\n",
      "            when 'Japan' then 'AP'\n",
      "            when 'Australia' then 'AP'\n",
      "            when 'New Zealand' then 'AP'\n",
      "            else 'EMEA'\n",
      "    end as region\n",
      "    from classicmodels.customers\n",
      "    \n",
      "\n"
     ]
    },
    {
     "data": {
      "text/plain": [
       "(265, 122)"
      ]
     },
     "execution_count": 6,
     "metadata": {},
     "output_type": "execute_result"
    }
   ],
   "source": [
    "res = question_7_sql.data_transformation_1()\n",
    "res"
   ]
  },
  {
   "cell_type": "code",
   "execution_count": 7,
   "metadata": {},
   "outputs": [
    {
     "name": "stdout",
     "output_type": "stream",
     "text": [
      "Data Transformation for table product_dimension:\n",
      "\n",
      "    insert into classicmodels_star.product_dimension\n",
      "    select productCode, productScale, productLine\n",
      "    from classicmodels.products\n",
      "    \n",
      "\n",
      "Data Transformation for table fact:\n",
      "\n",
      "    insert into classicmodels_star.fact\n",
      "    select customers.customerNumber, products.productCode, \n",
      "    orders.orderDate, orderdetails.quantityOrdered, orderdetails.priceEach\n",
      "    from (((classicmodels.customers join classicmodels.orders\n",
      "        on customers.customerNumber = orders.customerNumber)\n",
      "        join classicmodels.orderdetails\n",
      "        on orders.orderNumber = orderdetails.orderNumber)\n",
      "        join classicmodels.products\n",
      "        on orderdetails.productCode = products.productCode)\n",
      "    \n",
      "\n"
     ]
    },
    {
     "data": {
      "text/plain": [
       "(110, 2996)"
      ]
     },
     "execution_count": 7,
     "metadata": {},
     "output_type": "execute_result"
    }
   ],
   "source": [
    "res = question_7_sql.data_transformation_2()\n",
    "res"
   ]
  },
  {
   "cell_type": "code",
   "execution_count": 8,
   "metadata": {},
   "outputs": [
    {
     "name": "stdout",
     "output_type": "stream",
     "text": [
      "Query:\n",
      "\n",
      "    select year, region, sum(quantityOrdered * priceEach) as order_total_value\n",
      "    from ((classicmodels_star.date_dimension join classicmodels_star.fact\n",
      "    on date_dimension.orderDate = fact.orderDate) join classicmodels_star.location_dimension\n",
      "    on fact.customerNumber = location_dimension.customerNumber)\n",
      "    group by year, region\n",
      "    \n",
      "\n"
     ]
    },
    {
     "data": {
      "text/html": [
       "<div>\n",
       "<style scoped>\n",
       "    .dataframe tbody tr th:only-of-type {\n",
       "        vertical-align: middle;\n",
       "    }\n",
       "\n",
       "    .dataframe tbody tr th {\n",
       "        vertical-align: top;\n",
       "    }\n",
       "\n",
       "    .dataframe thead th {\n",
       "        text-align: right;\n",
       "    }\n",
       "</style>\n",
       "<table border=\"1\" class=\"dataframe\">\n",
       "  <thead>\n",
       "    <tr style=\"text-align: right;\">\n",
       "      <th></th>\n",
       "      <th>year</th>\n",
       "      <th>region</th>\n",
       "      <th>order_total_value</th>\n",
       "    </tr>\n",
       "  </thead>\n",
       "  <tbody>\n",
       "    <tr>\n",
       "      <th>0</th>\n",
       "      <td>2004</td>\n",
       "      <td>EMEA</td>\n",
       "      <td>2171244.36</td>\n",
       "    </tr>\n",
       "    <tr>\n",
       "      <th>1</th>\n",
       "      <td>2003</td>\n",
       "      <td>EMEA</td>\n",
       "      <td>1519511.84</td>\n",
       "    </tr>\n",
       "    <tr>\n",
       "      <th>2</th>\n",
       "      <td>2004</td>\n",
       "      <td>NA</td>\n",
       "      <td>1649903.68</td>\n",
       "    </tr>\n",
       "    <tr>\n",
       "      <th>3</th>\n",
       "      <td>2003</td>\n",
       "      <td>NA</td>\n",
       "      <td>1225638.04</td>\n",
       "    </tr>\n",
       "    <tr>\n",
       "      <th>4</th>\n",
       "      <td>2004</td>\n",
       "      <td>AP</td>\n",
       "      <td>694757.47</td>\n",
       "    </tr>\n",
       "    <tr>\n",
       "      <th>5</th>\n",
       "      <td>2003</td>\n",
       "      <td>AP</td>\n",
       "      <td>572198.51</td>\n",
       "    </tr>\n",
       "    <tr>\n",
       "      <th>6</th>\n",
       "      <td>2005</td>\n",
       "      <td>EMEA</td>\n",
       "      <td>829956.08</td>\n",
       "    </tr>\n",
       "    <tr>\n",
       "      <th>7</th>\n",
       "      <td>2005</td>\n",
       "      <td>NA</td>\n",
       "      <td>603650.19</td>\n",
       "    </tr>\n",
       "    <tr>\n",
       "      <th>8</th>\n",
       "      <td>2005</td>\n",
       "      <td>AP</td>\n",
       "      <td>337330.44</td>\n",
       "    </tr>\n",
       "  </tbody>\n",
       "</table>\n",
       "</div>"
      ],
      "text/plain": [
       "   year region order_total_value\n",
       "0  2004   EMEA        2171244.36\n",
       "1  2003   EMEA        1519511.84\n",
       "2  2004     NA        1649903.68\n",
       "3  2003     NA        1225638.04\n",
       "4  2004     AP         694757.47\n",
       "5  2003     AP         572198.51\n",
       "6  2005   EMEA         829956.08\n",
       "7  2005     NA         603650.19\n",
       "8  2005     AP         337330.44"
      ]
     },
     "execution_count": 8,
     "metadata": {},
     "output_type": "execute_result"
    }
   ],
   "source": [
    "res = question_7_sql.sales_by_year_region()\n",
    "res"
   ]
  },
  {
   "cell_type": "code",
   "execution_count": 9,
   "metadata": {},
   "outputs": [
    {
     "name": "stdout",
     "output_type": "stream",
     "text": [
      "Query:\n",
      "\n",
      "    select year, quarter, region, country, sum(quantityOrdered * priceEach) as order_total_value\n",
      "    from ((classicmodels_star.date_dimension join classicmodels_star.fact\n",
      "    on date_dimension.orderDate = fact.orderDate) join classicmodels_star.location_dimension\n",
      "    on fact.customerNumber = location_dimension.customerNumber)\n",
      "    group by year, quarter, region, country\n",
      "    \n",
      "\n"
     ]
    },
    {
     "data": {
      "text/html": [
       "<div>\n",
       "<style scoped>\n",
       "    .dataframe tbody tr th:only-of-type {\n",
       "        vertical-align: middle;\n",
       "    }\n",
       "\n",
       "    .dataframe tbody tr th {\n",
       "        vertical-align: top;\n",
       "    }\n",
       "\n",
       "    .dataframe thead th {\n",
       "        text-align: right;\n",
       "    }\n",
       "</style>\n",
       "<table border=\"1\" class=\"dataframe\">\n",
       "  <thead>\n",
       "    <tr style=\"text-align: right;\">\n",
       "      <th></th>\n",
       "      <th>year</th>\n",
       "      <th>quarter</th>\n",
       "      <th>region</th>\n",
       "      <th>country</th>\n",
       "      <th>order_total_value</th>\n",
       "    </tr>\n",
       "  </thead>\n",
       "  <tbody>\n",
       "    <tr>\n",
       "      <th>0</th>\n",
       "      <td>2004</td>\n",
       "      <td>3</td>\n",
       "      <td>EMEA</td>\n",
       "      <td>France</td>\n",
       "      <td>55951.77</td>\n",
       "    </tr>\n",
       "    <tr>\n",
       "      <th>1</th>\n",
       "      <td>2003</td>\n",
       "      <td>2</td>\n",
       "      <td>EMEA</td>\n",
       "      <td>France</td>\n",
       "      <td>115479.71</td>\n",
       "    </tr>\n",
       "    <tr>\n",
       "      <th>2</th>\n",
       "      <td>2004</td>\n",
       "      <td>4</td>\n",
       "      <td>EMEA</td>\n",
       "      <td>France</td>\n",
       "      <td>220409.99</td>\n",
       "    </tr>\n",
       "    <tr>\n",
       "      <th>3</th>\n",
       "      <td>2004</td>\n",
       "      <td>3</td>\n",
       "      <td>NA</td>\n",
       "      <td>USA</td>\n",
       "      <td>369912.42</td>\n",
       "    </tr>\n",
       "    <tr>\n",
       "      <th>4</th>\n",
       "      <td>2004</td>\n",
       "      <td>4</td>\n",
       "      <td>NA</td>\n",
       "      <td>USA</td>\n",
       "      <td>662452.25</td>\n",
       "    </tr>\n",
       "    <tr>\n",
       "      <th>...</th>\n",
       "      <td>...</td>\n",
       "      <td>...</td>\n",
       "      <td>...</td>\n",
       "      <td>...</td>\n",
       "      <td>...</td>\n",
       "    </tr>\n",
       "    <tr>\n",
       "      <th>118</th>\n",
       "      <td>2005</td>\n",
       "      <td>1</td>\n",
       "      <td>EMEA</td>\n",
       "      <td>Sweden</td>\n",
       "      <td>27966.54</td>\n",
       "    </tr>\n",
       "    <tr>\n",
       "      <th>119</th>\n",
       "      <td>2003</td>\n",
       "      <td>4</td>\n",
       "      <td>EMEA</td>\n",
       "      <td>Austria</td>\n",
       "      <td>42252.87</td>\n",
       "    </tr>\n",
       "    <tr>\n",
       "      <th>120</th>\n",
       "      <td>2005</td>\n",
       "      <td>1</td>\n",
       "      <td>EMEA</td>\n",
       "      <td>Austria</td>\n",
       "      <td>8807.12</td>\n",
       "    </tr>\n",
       "    <tr>\n",
       "      <th>121</th>\n",
       "      <td>2004</td>\n",
       "      <td>1</td>\n",
       "      <td>EMEA</td>\n",
       "      <td>Italy</td>\n",
       "      <td>7612.06</td>\n",
       "    </tr>\n",
       "    <tr>\n",
       "      <th>122</th>\n",
       "      <td>2003</td>\n",
       "      <td>3</td>\n",
       "      <td>AP</td>\n",
       "      <td>New Zealand</td>\n",
       "      <td>32077.44</td>\n",
       "    </tr>\n",
       "  </tbody>\n",
       "</table>\n",
       "<p>123 rows × 5 columns</p>\n",
       "</div>"
      ],
      "text/plain": [
       "     year  quarter region      country order_total_value\n",
       "0    2004        3   EMEA       France          55951.77\n",
       "1    2003        2   EMEA       France         115479.71\n",
       "2    2004        4   EMEA       France         220409.99\n",
       "3    2004        3     NA          USA         369912.42\n",
       "4    2004        4     NA          USA         662452.25\n",
       "..    ...      ...    ...          ...               ...\n",
       "118  2005        1   EMEA       Sweden          27966.54\n",
       "119  2003        4   EMEA      Austria          42252.87\n",
       "120  2005        1   EMEA      Austria           8807.12\n",
       "121  2004        1   EMEA        Italy           7612.06\n",
       "122  2003        3     AP  New Zealand          32077.44\n",
       "\n",
       "[123 rows x 5 columns]"
      ]
     },
     "execution_count": 9,
     "metadata": {},
     "output_type": "execute_result"
    }
   ],
   "source": [
    "res = question_7_sql.sales_by_quarter_year_county_region()\n",
    "res"
   ]
  },
  {
   "cell_type": "code",
   "execution_count": 10,
   "metadata": {},
   "outputs": [
    {
     "name": "stdout",
     "output_type": "stream",
     "text": [
      "Query:\n",
      "\n",
      "    select productLine, productScale, year, sum(quantityOrdered * priceEach) as order_total_value\n",
      "    from ((classicmodels_star.date_dimension join classicmodels_star.fact\n",
      "    on date_dimension.orderDate = fact.orderDate) join classicmodels_star.product_dimension\n",
      "    on fact.productCode = product_dimension.productCode)\n",
      "    group by productLine, productScale, year\n",
      "    \n",
      "\n"
     ]
    },
    {
     "data": {
      "text/html": [
       "<div>\n",
       "<style scoped>\n",
       "    .dataframe tbody tr th:only-of-type {\n",
       "        vertical-align: middle;\n",
       "    }\n",
       "\n",
       "    .dataframe tbody tr th {\n",
       "        vertical-align: top;\n",
       "    }\n",
       "\n",
       "    .dataframe thead th {\n",
       "        text-align: right;\n",
       "    }\n",
       "</style>\n",
       "<table border=\"1\" class=\"dataframe\">\n",
       "  <thead>\n",
       "    <tr style=\"text-align: right;\">\n",
       "      <th></th>\n",
       "      <th>productLine</th>\n",
       "      <th>productScale</th>\n",
       "      <th>year</th>\n",
       "      <th>order_total_value</th>\n",
       "    </tr>\n",
       "  </thead>\n",
       "  <tbody>\n",
       "    <tr>\n",
       "      <th>0</th>\n",
       "      <td>Motorcycles</td>\n",
       "      <td>1:10</td>\n",
       "      <td>2004</td>\n",
       "      <td>179505.19</td>\n",
       "    </tr>\n",
       "    <tr>\n",
       "      <th>1</th>\n",
       "      <td>Motorcycles</td>\n",
       "      <td>1:10</td>\n",
       "      <td>2005</td>\n",
       "      <td>76366.86</td>\n",
       "    </tr>\n",
       "    <tr>\n",
       "      <th>2</th>\n",
       "      <td>Motorcycles</td>\n",
       "      <td>1:10</td>\n",
       "      <td>2003</td>\n",
       "      <td>114970.54</td>\n",
       "    </tr>\n",
       "    <tr>\n",
       "      <th>3</th>\n",
       "      <td>Classic Cars</td>\n",
       "      <td>1:10</td>\n",
       "      <td>2004</td>\n",
       "      <td>210238.23</td>\n",
       "    </tr>\n",
       "    <tr>\n",
       "      <th>4</th>\n",
       "      <td>Classic Cars</td>\n",
       "      <td>1:10</td>\n",
       "      <td>2003</td>\n",
       "      <td>146538.41</td>\n",
       "    </tr>\n",
       "    <tr>\n",
       "      <th>...</th>\n",
       "      <td>...</td>\n",
       "      <td>...</td>\n",
       "      <td>...</td>\n",
       "      <td>...</td>\n",
       "    </tr>\n",
       "    <tr>\n",
       "      <th>85</th>\n",
       "      <td>Planes</td>\n",
       "      <td>1:700</td>\n",
       "      <td>2004</td>\n",
       "      <td>169632.37</td>\n",
       "    </tr>\n",
       "    <tr>\n",
       "      <th>86</th>\n",
       "      <td>Planes</td>\n",
       "      <td>1:700</td>\n",
       "      <td>2005</td>\n",
       "      <td>61905.07</td>\n",
       "    </tr>\n",
       "    <tr>\n",
       "      <th>87</th>\n",
       "      <td>Ships</td>\n",
       "      <td>1:72</td>\n",
       "      <td>2004</td>\n",
       "      <td>22806.48</td>\n",
       "    </tr>\n",
       "    <tr>\n",
       "      <th>88</th>\n",
       "      <td>Ships</td>\n",
       "      <td>1:72</td>\n",
       "      <td>2003</td>\n",
       "      <td>16729.57</td>\n",
       "    </tr>\n",
       "    <tr>\n",
       "      <th>89</th>\n",
       "      <td>Ships</td>\n",
       "      <td>1:72</td>\n",
       "      <td>2005</td>\n",
       "      <td>8014.35</td>\n",
       "    </tr>\n",
       "  </tbody>\n",
       "</table>\n",
       "<p>90 rows × 4 columns</p>\n",
       "</div>"
      ],
      "text/plain": [
       "     productLine productScale  year order_total_value\n",
       "0    Motorcycles         1:10  2004         179505.19\n",
       "1    Motorcycles         1:10  2005          76366.86\n",
       "2    Motorcycles         1:10  2003         114970.54\n",
       "3   Classic Cars         1:10  2004         210238.23\n",
       "4   Classic Cars         1:10  2003         146538.41\n",
       "..           ...          ...   ...               ...\n",
       "85        Planes        1:700  2004         169632.37\n",
       "86        Planes        1:700  2005          61905.07\n",
       "87         Ships         1:72  2004          22806.48\n",
       "88         Ships         1:72  2003          16729.57\n",
       "89         Ships         1:72  2005           8014.35\n",
       "\n",
       "[90 rows x 4 columns]"
      ]
     },
     "execution_count": 10,
     "metadata": {},
     "output_type": "execute_result"
    }
   ],
   "source": [
    "res = question_7_sql.sales_by_product_line_scale_year()\n",
    "res"
   ]
  },
  {
   "cell_type": "code",
   "execution_count": null,
   "metadata": {},
   "outputs": [],
   "source": []
  }
 ],
 "metadata": {
  "kernelspec": {
   "display_name": "Python 3",
   "language": "python",
   "name": "python3"
  },
  "language_info": {
   "codemirror_mode": {
    "name": "ipython",
    "version": 3
   },
   "file_extension": ".py",
   "mimetype": "text/x-python",
   "name": "python",
   "nbconvert_exporter": "python",
   "pygments_lexer": "ipython3",
   "version": "3.8.8"
  },
  "toc": {
   "nav_menu": {},
   "number_sections": true,
   "sideBar": true,
   "skip_h1_title": false,
   "title_cell": "Table of Contents",
   "title_sidebar": "Contents",
   "toc_cell": false,
   "toc_position": {},
   "toc_section_display": true,
   "toc_window_display": false
  }
 },
 "nbformat": 4,
 "nbformat_minor": 2
}
